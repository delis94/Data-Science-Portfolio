{
 "cells": [
  {
   "cell_type": "markdown",
   "id": "a4e196a0",
   "metadata": {},
   "source": [
    "#  **Softmax Regression, One-vs-All and One-vs-One for Multi-class Classification**\n"
   ]
  },
  {
   "cell_type": "code",
   "execution_count": 1,
   "id": "4041dfd6",
   "metadata": {},
   "outputs": [
    {
     "name": "stdout",
     "output_type": "stream",
     "text": [
      "Requirement already satisfied: scikit-learn==1.0.2 in d:\\new folder\\anaconda\\lib\\site-packages (1.0.2)\n",
      "Requirement already satisfied: scipy>=1.1.0 in d:\\new folder\\anaconda\\lib\\site-packages (from scikit-learn==1.0.2) (1.7.3)\n",
      "Requirement already satisfied: threadpoolctl>=2.0.0 in d:\\new folder\\anaconda\\lib\\site-packages (from scikit-learn==1.0.2) (2.2.0)\n",
      "Requirement already satisfied: numpy>=1.14.6 in d:\\new folder\\anaconda\\lib\\site-packages (from scikit-learn==1.0.2) (1.22.4)\n",
      "Requirement already satisfied: joblib>=0.11 in d:\\new folder\\anaconda\\lib\\site-packages (from scikit-learn==1.0.2) (1.1.0)\n"
     ]
    }
   ],
   "source": [
    "!pip install scikit-learn==1.0.2"
   ]
  },
  {
   "cell_type": "code",
   "execution_count": 2,
   "id": "fc252dfb",
   "metadata": {},
   "outputs": [],
   "source": [
    "import numpy as np\n",
    "import matplotlib.pyplot as plt\n",
    "from sklearn import datasets\n",
    "from sklearn.svm import SVC\n",
    "from sklearn.linear_model import LogisticRegression\n",
    "from sklearn.metrics import accuracy_score\n",
    "import pandas as pd"
   ]
  },
  {
   "cell_type": "markdown",
   "id": "b34ac052",
   "metadata": {},
   "source": [
    "## Utility Function\n"
   ]
  },
  {
   "cell_type": "markdown",
   "id": "311bfd23",
   "metadata": {},
   "source": [
    "This function plots a different decision boundary. \n"
   ]
  },
  {
   "cell_type": "code",
   "execution_count": 3,
   "id": "69e5339b",
   "metadata": {},
   "outputs": [],
   "source": [
    "plot_colors = \"ryb\"\n",
    "plot_step = 0.02\n",
    "\n",
    "def decision_boundary (X,y,model,iris, two=None):\n",
    "    x_min, x_max = X[:, 0].min() - 1, X[:, 0].max() + 1\n",
    "    y_min, y_max = X[:, 1].min() - 1, X[:, 1].max() + 1\n",
    "    xx, yy = np.meshgrid(np.arange(x_min, x_max, plot_step),\n",
    "                         np.arange(y_min, y_max, plot_step))\n",
    "    plt.tight_layout(h_pad=0.5, w_pad=0.5, pad=2.5)\n",
    "    \n",
    "    Z = model.predict(np.c_[xx.ravel(), yy.ravel()])\n",
    "    Z = Z.reshape(xx.shape)\n",
    "    cs = plt.contourf(xx, yy, Z,cmap=plt.cm.RdYlBu)\n",
    "    \n",
    "    if two:\n",
    "        cs = plt.contourf(xx, yy, Z,cmap=plt.cm.RdYlBu)\n",
    "        for i, color in zip(np.unique(y), plot_colors):\n",
    "            \n",
    "            idx = np.where( y== i)\n",
    "            plt.scatter(X[idx, 0], X[idx, 1], label=y,cmap=plt.cm.RdYlBu, s=15)\n",
    "        plt.show()\n",
    "  \n",
    "    else:\n",
    "        set_={0,1,2}\n",
    "        print(set_)\n",
    "        for i, color in zip(range(3), plot_colors):\n",
    "            idx = np.where( y== i)\n",
    "            if np.any(idx):\n",
    "\n",
    "                set_.remove(i)\n",
    "\n",
    "                plt.scatter(X[idx, 0], X[idx, 1], label=y,cmap=plt.cm.RdYlBu, edgecolor='black', s=15)\n",
    "\n",
    "\n",
    "        for  i in set_:\n",
    "            idx = np.where( iris.target== i)\n",
    "            plt.scatter(X[idx, 0], X[idx, 1], marker='x',color='black')\n",
    "\n",
    "        plt.show()\n"
   ]
  },
  {
   "cell_type": "markdown",
   "id": "2088c02f",
   "metadata": {},
   "source": [
    "This function will plot the probability of belonging to each class; each column is the probability of belonging to a class and the row number is the sample number.\n"
   ]
  },
  {
   "cell_type": "code",
   "execution_count": 21,
   "id": "9eea0c59",
   "metadata": {},
   "outputs": [],
   "source": [
    "def plot_probability_array(X,probability_array):\n",
    "\n",
    "    plot_array=np.zeros((X.shape[0],30))\n",
    "    col_start=0\n",
    "    ones=np.ones((X.shape[0],30))\n",
    "    for class_,col_end in enumerate([10,20,30]):\n",
    "        plot_array[:,col_start:col_end]= np.repeat(probability_array[:,class_].reshape(-1,1), 10,axis=1)\n",
    "        col_start=col_end\n",
    "    plt.figure(figsize=(10,6))    \n",
    "    plt.imshow(plot_array)\n",
    "    plt.xticks([])\n",
    "    plt.ylabel(\"samples\")\n",
    "    plt.xlabel(\"probability of 3 classes\")\n",
    "    plt.colorbar()\n",
    "    plt.show()"
   ]
  },
  {
   "cell_type": "markdown",
   "id": "f96121f7",
   "metadata": {},
   "source": [
    "In ths lab we will use the  iris dataset,  it consists of three different types of irises’ (Setosa y=0, Versicolour y=1, and Virginica y=2), petal and sepal length, stored in a 150x4 numpy.ndarray.\n",
    "\n",
    "The rows being the samples and the columns: Sepal Length, Sepal Width, Petal Length and Petal Width.\n",
    "\n",
    "The following plot uses the second two features:\n"
   ]
  },
  {
   "cell_type": "code",
   "execution_count": 5,
   "id": "d8c98a81",
   "metadata": {},
   "outputs": [
    {
     "data": {
      "text/plain": [
       "array([0, 1, 2])"
      ]
     },
     "execution_count": 5,
     "metadata": {},
     "output_type": "execute_result"
    }
   ],
   "source": [
    "pair=[1, 3]\n",
    "iris = datasets.load_iris()\n",
    "X = iris.data[:, pair]\n",
    "y = iris.target\n",
    "np.unique(y)"
   ]
  },
  {
   "cell_type": "code",
   "execution_count": 6,
   "id": "15e18367",
   "metadata": {},
   "outputs": [
    {
     "data": {
      "text/plain": [
       "Text(0, 0.5, 'petal width')"
      ]
     },
     "execution_count": 6,
     "metadata": {},
     "output_type": "execute_result"
    },
    {
     "data": {
      "image/png": "[encoded data removed]",
      "text/plain": [
       "<Figure size 432x288 with 1 Axes>"
      ]
     },
     "metadata": {
      "needs_background": "light"
     },
     "output_type": "display_data"
    }
   ],
   "source": [
    "plt.scatter(X[:, 0], X[:, 1], c=y, cmap=plt.cm.RdYlBu)\n",
    "plt.xlabel(\"sepal width (cm)\")\n",
    "plt.ylabel(\"petal width\")"
   ]
  },
  {
   "cell_type": "markdown",
   "id": "c09a47c9",
   "metadata": {},
   "source": [
    "## **Softmax Regression**  \n"
   ]
  },
  {
   "cell_type": "markdown",
   "id": "71516199",
   "metadata": {},
   "source": [
    "SoftMax regression is similar to logistic regression, and the softmax function converts the actual distances, that is, dot products of $x$ with each of the parameters $\\theta_i$ for the $K$ classes. This is converted to probabilities using the following: \n"
   ]
  },
  {
   "cell_type": "markdown",
   "id": "1b42dc85",
   "metadata": {},
   "source": [
    "$softmax(x,i) = \\frac{e^{ \\theta_i^T \\bf x}}{\\sum_{j=1}^K e^{\\theta_j^T x}} $\n"
   ]
  },
  {
   "cell_type": "markdown",
   "id": "12fb5d70",
   "metadata": {},
   "source": [
    "The training procedure is almost identical to logistic regression. Consider the three-class example where $y \\in \\{0,1,2\\}$ we would like to classify $x_1$. We can use the softmax function to generate a probability of how likely the sample belongs to each class:\n"
   ]
  },
  {
   "cell_type": "markdown",
   "id": "af28ecaa",
   "metadata": {},
   "source": [
    "$[softmax(x_1,0),softmax(x_1,1),softmax(x_1,2)]=[0.97,0.2,0.1]$\n"
   ]
  },
  {
   "cell_type": "markdown",
   "id": "a1cc589e",
   "metadata": {},
   "source": [
    "The index of each probability is the same as the class. We can make a prediction using the argmax function:\n"
   ]
  },
  {
   "cell_type": "markdown",
   "id": "c16c2209",
   "metadata": {},
   "source": [
    "$\\hat{y}=argmax_i  \\{softmax(x,i)\\}$\n"
   ]
  },
  {
   "cell_type": "markdown",
   "id": "e6068e9e",
   "metadata": {},
   "source": [
    "For the previous example, we can make a prediction as follows:\n"
   ]
  },
  {
   "cell_type": "markdown",
   "id": "507bc669",
   "metadata": {},
   "source": [
    "$\\hat{y}=argmax_i  \\{[0.97,0.2,0.1]\\}=0$\n"
   ]
  },
  {
   "cell_type": "markdown",
   "id": "27521910",
   "metadata": {},
   "source": [
    "The <code>sklearn</code> does this automatically, but we can verify the prediction step, as we fit the model:\n"
   ]
  },
  {
   "cell_type": "code",
   "execution_count": 7,
   "id": "999a44a2",
   "metadata": {},
   "outputs": [],
   "source": [
    "lr = LogisticRegression(random_state=0).fit(X, y)"
   ]
  },
  {
   "cell_type": "markdown",
   "id": "178d2093",
   "metadata": {},
   "source": [
    "We generate the probability using the method <ocde>predict_proba</code>:\n"
   ]
  },
  {
   "cell_type": "code",
   "execution_count": 15,
   "id": "c60ff9c2",
   "metadata": {},
   "outputs": [
    {
     "data": {
      "text/plain": [
       "array([[9.57671606e-01, 4.22321095e-02, 9.62845517e-05],\n",
       "       [8.83227089e-01, 1.16528398e-01, 2.44512665e-04],\n",
       "       [9.21407872e-01, 7.84220195e-02, 1.70108222e-04],\n",
       "       [9.04000900e-01, 9.57947290e-02, 2.04371365e-04]])"
      ]
     },
     "execution_count": 15,
     "metadata": {},
     "output_type": "execute_result"
    }
   ],
   "source": [
    "probability = lr.predict_proba(X)\n",
    "probability[0:4]"
   ]
  },
  {
   "cell_type": "markdown",
   "id": "ceef3ef7",
   "metadata": {},
   "source": [
    "We can plot the probability of belonging to each class; each column is the probability of belonging to a class and the row number is the sample number.\n"
   ]
  },
  {
   "cell_type": "markdown",
   "id": "cabd93c5",
   "metadata": {},
   "source": [
    "plot_probability_array(X,probability)"
   ]
  },
  {
   "cell_type": "markdown",
   "id": "a723bc33",
   "metadata": {},
   "source": [
    "Here, is the output for the first sample:\n"
   ]
  },
  {
   "cell_type": "code",
   "execution_count": 23,
   "id": "6343a017",
   "metadata": {},
   "outputs": [
    {
     "data": {
      "text/plain": [
       "array([9.57671606e-01, 4.22321095e-02, 9.62845517e-05])"
      ]
     },
     "execution_count": 23,
     "metadata": {},
     "output_type": "execute_result"
    }
   ],
   "source": [
    "probability[0,:]"
   ]
  },
  {
   "cell_type": "markdown",
   "id": "3de934db",
   "metadata": {},
   "source": [
    "We see it sums to one.\n"
   ]
  },
  {
   "cell_type": "code",
   "execution_count": 24,
   "id": "cf69e24f",
   "metadata": {},
   "outputs": [
    {
     "data": {
      "text/plain": [
       "0.9999999999999999"
      ]
     },
     "execution_count": 24,
     "metadata": {},
     "output_type": "execute_result"
    }
   ],
   "source": [
    "probability[0,:].sum()"
   ]
  },
  {
   "cell_type": "markdown",
   "id": "0df8d697",
   "metadata": {},
   "source": [
    "We can apply the $argmax$ function.\n"
   ]
  },
  {
   "cell_type": "code",
   "execution_count": 25,
   "id": "2a1fd8b7",
   "metadata": {},
   "outputs": [
    {
     "data": {
      "text/plain": [
       "0"
      ]
     },
     "execution_count": 25,
     "metadata": {},
     "output_type": "execute_result"
    }
   ],
   "source": [
    "np.argmax(probability[0,:])"
   ]
  },
  {
   "cell_type": "markdown",
   "id": "2bdba4b0",
   "metadata": {},
   "source": [
    "We can apply the $argmax$ function to each sample.\n"
   ]
  },
  {
   "cell_type": "code",
   "execution_count": 26,
   "id": "46905d2b",
   "metadata": {},
   "outputs": [
    {
     "data": {
      "text/plain": [
       "array([0, 0, 0, 0, 0, 0, 0, 0, 0, 0, 0, 0, 0, 0, 0, 0, 0, 0, 0, 0, 0, 0,\n",
       "       0, 0, 0, 0, 0, 0, 0, 0, 0, 0, 0, 0, 0, 0, 0, 0, 0, 0, 0, 0, 0, 0,\n",
       "       0, 0, 0, 0, 0, 0, 1, 1, 1, 1, 1, 1, 1, 1, 1, 1, 1, 1, 1, 1, 1, 1,\n",
       "       1, 1, 1, 1, 2, 1, 1, 1, 1, 1, 1, 2, 1, 1, 1, 1, 1, 1, 1, 1, 1, 1,\n",
       "       1, 1, 1, 1, 1, 1, 1, 1, 1, 1, 1, 1, 2, 2, 2, 2, 2, 2, 2, 2, 2, 2,\n",
       "       2, 2, 2, 2, 2, 2, 2, 2, 2, 1, 2, 2, 2, 2, 2, 2, 2, 2, 2, 1, 2, 2,\n",
       "       2, 1, 1, 2, 2, 2, 2, 2, 2, 2, 2, 2, 2, 2, 2, 2, 2, 2], dtype=int64)"
      ]
     },
     "execution_count": 26,
     "metadata": {},
     "output_type": "execute_result"
    }
   ],
   "source": [
    "softmax_prediction=np.argmax(probability,axis=1)\n",
    "softmax_prediction"
   ]
  },
  {
   "cell_type": "markdown",
   "id": "01ab18db",
   "metadata": {},
   "source": [
    "We can verify that sklearn does this under the hood by comparing it to the output of the method <code> predict  </code>.\n"
   ]
  },
  {
   "cell_type": "code",
   "execution_count": 27,
   "id": "9aa20c37",
   "metadata": {},
   "outputs": [
    {
     "data": {
      "text/plain": [
       "1.0"
      ]
     },
     "execution_count": 27,
     "metadata": {},
     "output_type": "execute_result"
    }
   ],
   "source": [
    "yhat =lr.predict(X)\n",
    "accuracy_score(yhat,softmax_prediction)"
   ]
  },
  {
   "cell_type": "markdown",
   "id": "ac8e65d0",
   "metadata": {},
   "source": [
    "We can't use Softmax regression for SVMs, Let's explore two methods of Multi-class Classification that we can apply to SVM.\n"
   ]
  },
  {
   "cell_type": "markdown",
   "id": "aef1567c",
   "metadata": {},
   "source": [
    "## SVM \n"
   ]
  },
  {
   "cell_type": "markdown",
   "id": "b3bb9d32",
   "metadata": {},
   "source": [
    "Sklean performs Multi-class Classification automatically, we can apply the method and calculate the accuracy. Train a SVM classifier with the `kernel` set to `linear`, `gamma` set to `0.5`, and the `probability` paramter set to `True`, then train the model using the `X` and `y` data.\n"
   ]
  },
  {
   "cell_type": "code",
   "execution_count": 28,
   "id": "cb0b7d92",
   "metadata": {},
   "outputs": [
    {
     "data": {
      "text/plain": [
       "SVC(gamma=0.5, kernel='linear', probability=True)"
      ]
     },
     "execution_count": 28,
     "metadata": {},
     "output_type": "execute_result"
    }
   ],
   "source": [
    "model = SVC(kernel='linear', gamma=.5, probability=True)\n",
    "\n",
    "model.fit(X,y)"
   ]
  },
  {
   "cell_type": "code",
   "execution_count": 29,
   "id": "1b4c959a",
   "metadata": {},
   "outputs": [
    {
     "data": {
      "text/plain": [
       "0.96"
      ]
     },
     "execution_count": 29,
     "metadata": {},
     "output_type": "execute_result"
    }
   ],
   "source": [
    "yhat = model.predict(X)\n",
    "\n",
    "accuracy_score(y,yhat)"
   ]
  },
  {
   "cell_type": "markdown",
   "id": "67f3309e",
   "metadata": {},
   "source": [
    "We can plot the decision_boundary."
   ]
  },
  {
   "cell_type": "code",
   "execution_count": 30,
   "id": "cd318fae",
   "metadata": {},
   "outputs": [
    {
     "name": "stdout",
     "output_type": "stream",
     "text": [
      "{0, 1, 2}\n"
     ]
    },
    {
     "data": {
      "image/png": "[encoded data removed]",
      "text/plain": [
       "<Figure size 432x288 with 1 Axes>"
      ]
     },
     "metadata": {
      "needs_background": "light"
     },
     "output_type": "display_data"
    }
   ],
   "source": [
    "decision_boundary (X,y,model,iris)"
   ]
  },
  {
   "cell_type": "code",
   "execution_count": null,
   "id": "cbfa8e38",
   "metadata": {},
   "outputs": [],
   "source": []
  }
 ],
 "metadata": {
  "kernelspec": {
   "display_name": "Python 3 (ipykernel)",
   "language": "python",
   "name": "python3"
  },
  "language_info": {
   "codemirror_mode": {
    "name": "ipython",
    "version": 3
   },
   "file_extension": ".py",
   "mimetype": "text/x-python",
   "name": "python",
   "nbconvert_exporter": "python",
   "pygments_lexer": "ipython3",
   "version": "3.9.12"
  }
 },
 "nbformat": 4,
 "nbformat_minor": 5
}
