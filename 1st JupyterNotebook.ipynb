{
 "cells": [
  {
   "cell_type": "markdown",
   "id": "d885c358",
   "metadata": {},
   "source": [
    "# Data Science Tools and Ecosystem"
   ]
  },
  {
   "cell_type": "markdown",
   "id": "a1211ca3",
   "metadata": {},
   "source": [
    "In this notebook, Data Science Tools and Ecosystem are summarized.\n"
   ]
  },
  {
   "cell_type": "markdown",
   "id": "51b633f3",
   "metadata": {},
   "source": [
    "**Objectives:**\n",
    "- List popular languages for Data Science\n",
    "- Data Science Tools\n",
    "- Commonly used libraries in Data Science\n",
    "- Evaluating arithmetic expressions in Python"
   ]
  },
  {
   "cell_type": "markdown",
   "id": "188b4e70",
   "metadata": {},
   "source": [
    "Some of the popular languages that Data Scientists use are:\n",
    "1. Python\n",
    "2. R\n",
    "3. Java\n",
    "4. Scala"
   ]
  },
  {
   "cell_type": "markdown",
   "id": "022b99cd",
   "metadata": {},
   "source": [
    " |Data Science Tools|\n",
    " |:----------------:|\n",
    " |Jupyter Notebook  |\n",
    " |Visual Studio Code| \n",
    " |Anaconda          | "
   ]
  },
  {
   "cell_type": "markdown",
   "id": "ad48e3f3",
   "metadata": {},
   "source": [
    "Some of the commonly used libraries used by Data Scientists include:\n",
    "1. NumPy\n",
    "2. Pandas\n",
    "3. ggplot\n",
    "4. matplotlib\n"
   ]
  },
  {
   "cell_type": "markdown",
   "id": "bdf541f3",
   "metadata": {},
   "source": [
    "### Below are a few examples of evaluating arithmetic expressions in Python.\n"
   ]
  },
  {
   "cell_type": "code",
   "execution_count": 3,
   "id": "47d5c52f",
   "metadata": {},
   "outputs": [
    {
     "data": {
      "text/plain": [
       "17"
      ]
     },
     "execution_count": 3,
     "metadata": {},
     "output_type": "execute_result"
    }
   ],
   "source": [
    "#This a simple arithmetic expression to mutiply then add integers.\n",
    "(3*4)+5"
   ]
  },
  {
   "cell_type": "code",
   "execution_count": 8,
   "id": "51087852",
   "metadata": {},
   "outputs": [
    {
     "name": "stdout",
     "output_type": "stream",
     "text": [
      "Hours= 3.33\n"
     ]
    }
   ],
   "source": [
    "#This will convert 200 minutes to hours by diving by 60.\n",
    "minutes=200\n",
    "hours=minutes/60\n",
    "print(\"Hours=\",round(hours,2))"
   ]
  },
  {
   "cell_type": "markdown",
   "id": "b612787c",
   "metadata": {},
   "source": [
    "## Author \n",
    "Konstantinos Delis"
   ]
  },
  {
   "cell_type": "code",
   "execution_count": 1,
   "id": "a46107dd",
   "metadata": {},
   "outputs": [],
   "source": [
    "import pandas as pd"
   ]
  },
  {
   "cell_type": "code",
   "execution_count": 4,
   "id": "27a27bb0",
   "metadata": {},
   "outputs": [
    {
     "data": {
      "text/html": [
       "<div>\n",
       "<style scoped>\n",
       "    .dataframe tbody tr th:only-of-type {\n",
       "        vertical-align: middle;\n",
       "    }\n",
       "\n",
       "    .dataframe tbody tr th {\n",
       "        vertical-align: top;\n",
       "    }\n",
       "\n",
       "    .dataframe thead th {\n",
       "        text-align: right;\n",
       "    }\n",
       "</style>\n",
       "<table border=\"1\" class=\"dataframe\">\n",
       "  <thead>\n",
       "    <tr style=\"text-align: right;\">\n",
       "      <th></th>\n",
       "      <th>0</th>\n",
       "      <th>1</th>\n",
       "      <th>2</th>\n",
       "      <th>3</th>\n",
       "      <th>4</th>\n",
       "      <th>5</th>\n",
       "      <th>6</th>\n",
       "      <th>7</th>\n",
       "      <th>8</th>\n",
       "      <th>9</th>\n",
       "      <th>10</th>\n",
       "      <th>11</th>\n",
       "    </tr>\n",
       "  </thead>\n",
       "  <tbody>\n",
       "    <tr>\n",
       "      <th>0</th>\n",
       "      <td>GAAP</td>\n",
       "      <td>GAAP</td>\n",
       "      <td>GAAP</td>\n",
       "      <td>GAAP</td>\n",
       "      <td>GAAP</td>\n",
       "      <td>GAAP</td>\n",
       "      <td>GAAP</td>\n",
       "      <td>GAAP</td>\n",
       "      <td>GAAP</td>\n",
       "      <td>GAAP</td>\n",
       "      <td>GAAP</td>\n",
       "      <td>GAAP</td>\n",
       "    </tr>\n",
       "    <tr>\n",
       "      <th>1</th>\n",
       "      <td>($ in millions, except earnings per share)</td>\n",
       "      <td>Q3 FY25</td>\n",
       "      <td>Q3 FY25</td>\n",
       "      <td>Q3 FY25</td>\n",
       "      <td>Q2 FY25</td>\n",
       "      <td>Q2 FY25</td>\n",
       "      <td>Q2 FY25</td>\n",
       "      <td>Q3 FY24</td>\n",
       "      <td>Q3 FY24</td>\n",
       "      <td>Q3 FY24</td>\n",
       "      <td>Q/Q</td>\n",
       "      <td>Y/Y</td>\n",
       "    </tr>\n",
       "    <tr>\n",
       "      <th>2</th>\n",
       "      <td>Revenue</td>\n",
       "      <td>$</td>\n",
       "      <td>35082</td>\n",
       "      <td>NaN</td>\n",
       "      <td>$</td>\n",
       "      <td>30040</td>\n",
       "      <td>NaN</td>\n",
       "      <td>$</td>\n",
       "      <td>18120</td>\n",
       "      <td>NaN</td>\n",
       "      <td>Up 17%</td>\n",
       "      <td>Up 94%</td>\n",
       "    </tr>\n",
       "    <tr>\n",
       "      <th>3</th>\n",
       "      <td>Gross margin</td>\n",
       "      <td>NaN</td>\n",
       "      <td>74.6</td>\n",
       "      <td>%</td>\n",
       "      <td>NaN</td>\n",
       "      <td>75.1</td>\n",
       "      <td>%</td>\n",
       "      <td>NaN</td>\n",
       "      <td>74.0</td>\n",
       "      <td>%</td>\n",
       "      <td>Down 0.5 pts</td>\n",
       "      <td>Up 0.6 pts</td>\n",
       "    </tr>\n",
       "    <tr>\n",
       "      <th>4</th>\n",
       "      <td>Operating expenses</td>\n",
       "      <td>$</td>\n",
       "      <td>4287</td>\n",
       "      <td>NaN</td>\n",
       "      <td>$</td>\n",
       "      <td>3932</td>\n",
       "      <td>NaN</td>\n",
       "      <td>$</td>\n",
       "      <td>2983</td>\n",
       "      <td>NaN</td>\n",
       "      <td>Up 9%</td>\n",
       "      <td>Up 44%</td>\n",
       "    </tr>\n",
       "    <tr>\n",
       "      <th>5</th>\n",
       "      <td>Operating income</td>\n",
       "      <td>$</td>\n",
       "      <td>21869</td>\n",
       "      <td>NaN</td>\n",
       "      <td>$</td>\n",
       "      <td>18642</td>\n",
       "      <td>NaN</td>\n",
       "      <td>$</td>\n",
       "      <td>10417</td>\n",
       "      <td>NaN</td>\n",
       "      <td>Up 17%</td>\n",
       "      <td>Up 110%</td>\n",
       "    </tr>\n",
       "    <tr>\n",
       "      <th>6</th>\n",
       "      <td>Net income</td>\n",
       "      <td>$</td>\n",
       "      <td>19309</td>\n",
       "      <td>NaN</td>\n",
       "      <td>$</td>\n",
       "      <td>16599</td>\n",
       "      <td>NaN</td>\n",
       "      <td>$</td>\n",
       "      <td>9243</td>\n",
       "      <td>NaN</td>\n",
       "      <td>Up 16%</td>\n",
       "      <td>Up 109%</td>\n",
       "    </tr>\n",
       "    <tr>\n",
       "      <th>7</th>\n",
       "      <td>Diluted earnings per share*</td>\n",
       "      <td>$</td>\n",
       "      <td>0.78</td>\n",
       "      <td>NaN</td>\n",
       "      <td>$</td>\n",
       "      <td>0.67</td>\n",
       "      <td>NaN</td>\n",
       "      <td>$</td>\n",
       "      <td>0.37</td>\n",
       "      <td>NaN</td>\n",
       "      <td>Up 16%</td>\n",
       "      <td>Up 111%</td>\n",
       "    </tr>\n",
       "  </tbody>\n",
       "</table>\n",
       "</div>"
      ],
      "text/plain": [
       "                                           0        1        2        3   \\\n",
       "0                                        GAAP     GAAP     GAAP     GAAP   \n",
       "1  ($ in millions, except earnings per share)  Q3 FY25  Q3 FY25  Q3 FY25   \n",
       "2                                     Revenue        $    35082      NaN   \n",
       "3                                Gross margin      NaN     74.6        %   \n",
       "4                          Operating expenses        $     4287      NaN   \n",
       "5                            Operating income        $    21869      NaN   \n",
       "6                                  Net income        $    19309      NaN   \n",
       "7                 Diluted earnings per share*        $     0.78      NaN   \n",
       "\n",
       "        4        5        6        7        8        9             10  \\\n",
       "0     GAAP     GAAP     GAAP     GAAP     GAAP     GAAP          GAAP   \n",
       "1  Q2 FY25  Q2 FY25  Q2 FY25  Q3 FY24  Q3 FY24  Q3 FY24           Q/Q   \n",
       "2        $    30040      NaN        $    18120      NaN        Up 17%   \n",
       "3      NaN     75.1        %      NaN     74.0        %  Down 0.5 pts   \n",
       "4        $     3932      NaN        $     2983      NaN         Up 9%   \n",
       "5        $    18642      NaN        $    10417      NaN        Up 17%   \n",
       "6        $    16599      NaN        $     9243      NaN        Up 16%   \n",
       "7        $     0.67      NaN        $     0.37      NaN        Up 16%   \n",
       "\n",
       "           11  \n",
       "0        GAAP  \n",
       "1         Y/Y  \n",
       "2      Up 94%  \n",
       "3  Up 0.6 pts  \n",
       "4      Up 44%  \n",
       "5     Up 110%  \n",
       "6     Up 109%  \n",
       "7     Up 111%  "
      ]
     },
     "execution_count": 4,
     "metadata": {},
     "output_type": "execute_result"
    }
   ],
   "source": [
    "url='https://nvidianews.nvidia.com/news/nvidia-announces-financial-results-for-third-quarter-fiscal-2025'\n",
    "df= pd.read_html(url)\n",
    "df[0]"
   ]
  },
  {
   "cell_type": "code",
   "execution_count": null,
   "id": "ef744005",
   "metadata": {},
   "outputs": [],
   "source": []
  }
 ],
 "metadata": {
  "kernelspec": {
   "display_name": "Python 3 (ipykernel)",
   "language": "python",
   "name": "python3"
  },
  "language_info": {
   "codemirror_mode": {
    "name": "ipython",
    "version": 3
   },
   "file_extension": ".py",
   "mimetype": "text/x-python",
   "name": "python",
   "nbconvert_exporter": "python",
   "pygments_lexer": "ipython3",
   "version": "3.9.12"
  }
 },
 "nbformat": 4,
 "nbformat_minor": 5
}
