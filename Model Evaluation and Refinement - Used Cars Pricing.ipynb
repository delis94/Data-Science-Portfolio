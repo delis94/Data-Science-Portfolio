{
 "cells": [
  {
   "cell_type": "code",
   "execution_count": 3,
   "id": "d96aeff8",
   "metadata": {},
   "outputs": [],
   "source": [
    "import pandas as pd\n",
    "import numpy as np\n",
    "import matplotlib.pyplot as plt\n",
    "import warnings\n",
    "import seaborn as sns\n",
    "warnings.filterwarnings('ignore')"
   ]
  },
  {
   "cell_type": "code",
   "execution_count": 4,
   "id": "ae6a62f8",
   "metadata": {},
   "outputs": [
    {
     "data": {
      "text/html": [
       "<div>\n",
       "<style scoped>\n",
       "    .dataframe tbody tr th:only-of-type {\n",
       "        vertical-align: middle;\n",
       "    }\n",
       "\n",
       "    .dataframe tbody tr th {\n",
       "        vertical-align: top;\n",
       "    }\n",
       "\n",
       "    .dataframe thead th {\n",
       "        text-align: right;\n",
       "    }\n",
       "</style>\n",
       "<table border=\"1\" class=\"dataframe\">\n",
       "  <thead>\n",
       "    <tr style=\"text-align: right;\">\n",
       "      <th></th>\n",
       "      <th>Unnamed: 0.1</th>\n",
       "      <th>Unnamed: 0</th>\n",
       "      <th>symboling</th>\n",
       "      <th>normalized-losses</th>\n",
       "      <th>make</th>\n",
       "      <th>aspiration</th>\n",
       "      <th>num-of-doors</th>\n",
       "      <th>body-style</th>\n",
       "      <th>drive-wheels</th>\n",
       "      <th>engine-location</th>\n",
       "      <th>...</th>\n",
       "      <th>compression-ratio</th>\n",
       "      <th>horsepower</th>\n",
       "      <th>peak-rpm</th>\n",
       "      <th>city-mpg</th>\n",
       "      <th>highway-mpg</th>\n",
       "      <th>price</th>\n",
       "      <th>city-L/100km</th>\n",
       "      <th>horsepower-binned</th>\n",
       "      <th>diesel</th>\n",
       "      <th>gas</th>\n",
       "    </tr>\n",
       "  </thead>\n",
       "  <tbody>\n",
       "    <tr>\n",
       "      <th>0</th>\n",
       "      <td>0</td>\n",
       "      <td>0</td>\n",
       "      <td>3</td>\n",
       "      <td>122</td>\n",
       "      <td>alfa-romero</td>\n",
       "      <td>std</td>\n",
       "      <td>two</td>\n",
       "      <td>convertible</td>\n",
       "      <td>rwd</td>\n",
       "      <td>front</td>\n",
       "      <td>...</td>\n",
       "      <td>9.0</td>\n",
       "      <td>111.0</td>\n",
       "      <td>5000.0</td>\n",
       "      <td>21</td>\n",
       "      <td>27</td>\n",
       "      <td>13495.0</td>\n",
       "      <td>11.190476</td>\n",
       "      <td>Medium</td>\n",
       "      <td>0</td>\n",
       "      <td>1</td>\n",
       "    </tr>\n",
       "    <tr>\n",
       "      <th>1</th>\n",
       "      <td>1</td>\n",
       "      <td>1</td>\n",
       "      <td>3</td>\n",
       "      <td>122</td>\n",
       "      <td>alfa-romero</td>\n",
       "      <td>std</td>\n",
       "      <td>two</td>\n",
       "      <td>convertible</td>\n",
       "      <td>rwd</td>\n",
       "      <td>front</td>\n",
       "      <td>...</td>\n",
       "      <td>9.0</td>\n",
       "      <td>111.0</td>\n",
       "      <td>5000.0</td>\n",
       "      <td>21</td>\n",
       "      <td>27</td>\n",
       "      <td>16500.0</td>\n",
       "      <td>11.190476</td>\n",
       "      <td>Medium</td>\n",
       "      <td>0</td>\n",
       "      <td>1</td>\n",
       "    </tr>\n",
       "    <tr>\n",
       "      <th>2</th>\n",
       "      <td>2</td>\n",
       "      <td>2</td>\n",
       "      <td>1</td>\n",
       "      <td>122</td>\n",
       "      <td>alfa-romero</td>\n",
       "      <td>std</td>\n",
       "      <td>two</td>\n",
       "      <td>hatchback</td>\n",
       "      <td>rwd</td>\n",
       "      <td>front</td>\n",
       "      <td>...</td>\n",
       "      <td>9.0</td>\n",
       "      <td>154.0</td>\n",
       "      <td>5000.0</td>\n",
       "      <td>19</td>\n",
       "      <td>26</td>\n",
       "      <td>16500.0</td>\n",
       "      <td>12.368421</td>\n",
       "      <td>Medium</td>\n",
       "      <td>0</td>\n",
       "      <td>1</td>\n",
       "    </tr>\n",
       "    <tr>\n",
       "      <th>3</th>\n",
       "      <td>3</td>\n",
       "      <td>3</td>\n",
       "      <td>2</td>\n",
       "      <td>164</td>\n",
       "      <td>audi</td>\n",
       "      <td>std</td>\n",
       "      <td>four</td>\n",
       "      <td>sedan</td>\n",
       "      <td>fwd</td>\n",
       "      <td>front</td>\n",
       "      <td>...</td>\n",
       "      <td>10.0</td>\n",
       "      <td>102.0</td>\n",
       "      <td>5500.0</td>\n",
       "      <td>24</td>\n",
       "      <td>30</td>\n",
       "      <td>13950.0</td>\n",
       "      <td>9.791667</td>\n",
       "      <td>Medium</td>\n",
       "      <td>0</td>\n",
       "      <td>1</td>\n",
       "    </tr>\n",
       "    <tr>\n",
       "      <th>4</th>\n",
       "      <td>4</td>\n",
       "      <td>4</td>\n",
       "      <td>2</td>\n",
       "      <td>164</td>\n",
       "      <td>audi</td>\n",
       "      <td>std</td>\n",
       "      <td>four</td>\n",
       "      <td>sedan</td>\n",
       "      <td>4wd</td>\n",
       "      <td>front</td>\n",
       "      <td>...</td>\n",
       "      <td>8.0</td>\n",
       "      <td>115.0</td>\n",
       "      <td>5500.0</td>\n",
       "      <td>18</td>\n",
       "      <td>22</td>\n",
       "      <td>17450.0</td>\n",
       "      <td>13.055556</td>\n",
       "      <td>Medium</td>\n",
       "      <td>0</td>\n",
       "      <td>1</td>\n",
       "    </tr>\n",
       "  </tbody>\n",
       "</table>\n",
       "<p>5 rows × 31 columns</p>\n",
       "</div>"
      ],
      "text/plain": [
       "   Unnamed: 0.1  Unnamed: 0  symboling  normalized-losses         make  \\\n",
       "0             0           0          3                122  alfa-romero   \n",
       "1             1           1          3                122  alfa-romero   \n",
       "2             2           2          1                122  alfa-romero   \n",
       "3             3           3          2                164         audi   \n",
       "4             4           4          2                164         audi   \n",
       "\n",
       "  aspiration num-of-doors   body-style drive-wheels engine-location  ...  \\\n",
       "0        std          two  convertible          rwd           front  ...   \n",
       "1        std          two  convertible          rwd           front  ...   \n",
       "2        std          two    hatchback          rwd           front  ...   \n",
       "3        std         four        sedan          fwd           front  ...   \n",
       "4        std         four        sedan          4wd           front  ...   \n",
       "\n",
       "   compression-ratio  horsepower  peak-rpm  city-mpg  highway-mpg    price  \\\n",
       "0                9.0       111.0    5000.0        21           27  13495.0   \n",
       "1                9.0       111.0    5000.0        21           27  16500.0   \n",
       "2                9.0       154.0    5000.0        19           26  16500.0   \n",
       "3               10.0       102.0    5500.0        24           30  13950.0   \n",
       "4                8.0       115.0    5500.0        18           22  17450.0   \n",
       "\n",
       "  city-L/100km  horsepower-binned diesel  gas  \n",
       "0    11.190476             Medium      0    1  \n",
       "1    11.190476             Medium      0    1  \n",
       "2    12.368421             Medium      0    1  \n",
       "3     9.791667             Medium      0    1  \n",
       "4    13.055556             Medium      0    1  \n",
       "\n",
       "[5 rows x 31 columns]"
      ]
     },
     "execution_count": 4,
     "metadata": {},
     "output_type": "execute_result"
    }
   ],
   "source": [
    "filepath = 'https://cf-courses-data.s3.us.cloud-object-storage.appdomain.cloud/IBMDeveloperSkillsNetwork-DA0101EN-SkillsNetwork/labs/Data%20files/module_5_auto.csv'\n",
    "df = pd.read_csv(filepath)\n",
    "df.head(5)\n"
   ]
  },
  {
   "cell_type": "markdown",
   "id": "bf03f273",
   "metadata": {},
   "source": [
    "First, let's only use numeric data:"
   ]
  },
  {
   "cell_type": "code",
   "execution_count": 5,
   "id": "cc41be44",
   "metadata": {},
   "outputs": [
    {
     "data": {
      "text/html": [
       "<div>\n",
       "<style scoped>\n",
       "    .dataframe tbody tr th:only-of-type {\n",
       "        vertical-align: middle;\n",
       "    }\n",
       "\n",
       "    .dataframe tbody tr th {\n",
       "        vertical-align: top;\n",
       "    }\n",
       "\n",
       "    .dataframe thead th {\n",
       "        text-align: right;\n",
       "    }\n",
       "</style>\n",
       "<table border=\"1\" class=\"dataframe\">\n",
       "  <thead>\n",
       "    <tr style=\"text-align: right;\">\n",
       "      <th></th>\n",
       "      <th>Unnamed: 0.1</th>\n",
       "      <th>Unnamed: 0</th>\n",
       "      <th>symboling</th>\n",
       "      <th>normalized-losses</th>\n",
       "      <th>wheel-base</th>\n",
       "      <th>length</th>\n",
       "      <th>width</th>\n",
       "      <th>height</th>\n",
       "      <th>curb-weight</th>\n",
       "      <th>engine-size</th>\n",
       "      <th>...</th>\n",
       "      <th>stroke</th>\n",
       "      <th>compression-ratio</th>\n",
       "      <th>horsepower</th>\n",
       "      <th>peak-rpm</th>\n",
       "      <th>city-mpg</th>\n",
       "      <th>highway-mpg</th>\n",
       "      <th>price</th>\n",
       "      <th>city-L/100km</th>\n",
       "      <th>diesel</th>\n",
       "      <th>gas</th>\n",
       "    </tr>\n",
       "  </thead>\n",
       "  <tbody>\n",
       "    <tr>\n",
       "      <th>0</th>\n",
       "      <td>0</td>\n",
       "      <td>0</td>\n",
       "      <td>3</td>\n",
       "      <td>122</td>\n",
       "      <td>88.6</td>\n",
       "      <td>0.811148</td>\n",
       "      <td>0.890278</td>\n",
       "      <td>48.8</td>\n",
       "      <td>2548</td>\n",
       "      <td>130</td>\n",
       "      <td>...</td>\n",
       "      <td>2.68</td>\n",
       "      <td>9.0</td>\n",
       "      <td>111.0</td>\n",
       "      <td>5000.0</td>\n",
       "      <td>21</td>\n",
       "      <td>27</td>\n",
       "      <td>13495.0</td>\n",
       "      <td>11.190476</td>\n",
       "      <td>0</td>\n",
       "      <td>1</td>\n",
       "    </tr>\n",
       "    <tr>\n",
       "      <th>1</th>\n",
       "      <td>1</td>\n",
       "      <td>1</td>\n",
       "      <td>3</td>\n",
       "      <td>122</td>\n",
       "      <td>88.6</td>\n",
       "      <td>0.811148</td>\n",
       "      <td>0.890278</td>\n",
       "      <td>48.8</td>\n",
       "      <td>2548</td>\n",
       "      <td>130</td>\n",
       "      <td>...</td>\n",
       "      <td>2.68</td>\n",
       "      <td>9.0</td>\n",
       "      <td>111.0</td>\n",
       "      <td>5000.0</td>\n",
       "      <td>21</td>\n",
       "      <td>27</td>\n",
       "      <td>16500.0</td>\n",
       "      <td>11.190476</td>\n",
       "      <td>0</td>\n",
       "      <td>1</td>\n",
       "    </tr>\n",
       "    <tr>\n",
       "      <th>2</th>\n",
       "      <td>2</td>\n",
       "      <td>2</td>\n",
       "      <td>1</td>\n",
       "      <td>122</td>\n",
       "      <td>94.5</td>\n",
       "      <td>0.822681</td>\n",
       "      <td>0.909722</td>\n",
       "      <td>52.4</td>\n",
       "      <td>2823</td>\n",
       "      <td>152</td>\n",
       "      <td>...</td>\n",
       "      <td>3.47</td>\n",
       "      <td>9.0</td>\n",
       "      <td>154.0</td>\n",
       "      <td>5000.0</td>\n",
       "      <td>19</td>\n",
       "      <td>26</td>\n",
       "      <td>16500.0</td>\n",
       "      <td>12.368421</td>\n",
       "      <td>0</td>\n",
       "      <td>1</td>\n",
       "    </tr>\n",
       "    <tr>\n",
       "      <th>3</th>\n",
       "      <td>3</td>\n",
       "      <td>3</td>\n",
       "      <td>2</td>\n",
       "      <td>164</td>\n",
       "      <td>99.8</td>\n",
       "      <td>0.848630</td>\n",
       "      <td>0.919444</td>\n",
       "      <td>54.3</td>\n",
       "      <td>2337</td>\n",
       "      <td>109</td>\n",
       "      <td>...</td>\n",
       "      <td>3.40</td>\n",
       "      <td>10.0</td>\n",
       "      <td>102.0</td>\n",
       "      <td>5500.0</td>\n",
       "      <td>24</td>\n",
       "      <td>30</td>\n",
       "      <td>13950.0</td>\n",
       "      <td>9.791667</td>\n",
       "      <td>0</td>\n",
       "      <td>1</td>\n",
       "    </tr>\n",
       "    <tr>\n",
       "      <th>4</th>\n",
       "      <td>4</td>\n",
       "      <td>4</td>\n",
       "      <td>2</td>\n",
       "      <td>164</td>\n",
       "      <td>99.4</td>\n",
       "      <td>0.848630</td>\n",
       "      <td>0.922222</td>\n",
       "      <td>54.3</td>\n",
       "      <td>2824</td>\n",
       "      <td>136</td>\n",
       "      <td>...</td>\n",
       "      <td>3.40</td>\n",
       "      <td>8.0</td>\n",
       "      <td>115.0</td>\n",
       "      <td>5500.0</td>\n",
       "      <td>18</td>\n",
       "      <td>22</td>\n",
       "      <td>17450.0</td>\n",
       "      <td>13.055556</td>\n",
       "      <td>0</td>\n",
       "      <td>1</td>\n",
       "    </tr>\n",
       "  </tbody>\n",
       "</table>\n",
       "<p>5 rows × 21 columns</p>\n",
       "</div>"
      ],
      "text/plain": [
       "   Unnamed: 0.1  Unnamed: 0  symboling  normalized-losses  wheel-base  \\\n",
       "0             0           0          3                122        88.6   \n",
       "1             1           1          3                122        88.6   \n",
       "2             2           2          1                122        94.5   \n",
       "3             3           3          2                164        99.8   \n",
       "4             4           4          2                164        99.4   \n",
       "\n",
       "     length     width  height  curb-weight  engine-size  ...  stroke  \\\n",
       "0  0.811148  0.890278    48.8         2548          130  ...    2.68   \n",
       "1  0.811148  0.890278    48.8         2548          130  ...    2.68   \n",
       "2  0.822681  0.909722    52.4         2823          152  ...    3.47   \n",
       "3  0.848630  0.919444    54.3         2337          109  ...    3.40   \n",
       "4  0.848630  0.922222    54.3         2824          136  ...    3.40   \n",
       "\n",
       "   compression-ratio  horsepower  peak-rpm  city-mpg  highway-mpg    price  \\\n",
       "0                9.0       111.0    5000.0        21           27  13495.0   \n",
       "1                9.0       111.0    5000.0        21           27  16500.0   \n",
       "2                9.0       154.0    5000.0        19           26  16500.0   \n",
       "3               10.0       102.0    5500.0        24           30  13950.0   \n",
       "4                8.0       115.0    5500.0        18           22  17450.0   \n",
       "\n",
       "   city-L/100km  diesel  gas  \n",
       "0     11.190476       0    1  \n",
       "1     11.190476       0    1  \n",
       "2     12.368421       0    1  \n",
       "3      9.791667       0    1  \n",
       "4     13.055556       0    1  \n",
       "\n",
       "[5 rows x 21 columns]"
      ]
     },
     "execution_count": 5,
     "metadata": {},
     "output_type": "execute_result"
    }
   ],
   "source": [
    "df1=df._get_numeric_data()\n",
    "df1.head()"
   ]
  },
  {
   "cell_type": "markdown",
   "id": "44ed9ae4",
   "metadata": {},
   "source": [
    "Let's remove the columns 'Unnamed:0.1' and 'Unnamed:0' since they do not provide any value to the models."
   ]
  },
  {
   "cell_type": "code",
   "execution_count": 6,
   "id": "20bf077b",
   "metadata": {},
   "outputs": [
    {
     "data": {
      "text/html": [
       "<div>\n",
       "<style scoped>\n",
       "    .dataframe tbody tr th:only-of-type {\n",
       "        vertical-align: middle;\n",
       "    }\n",
       "\n",
       "    .dataframe tbody tr th {\n",
       "        vertical-align: top;\n",
       "    }\n",
       "\n",
       "    .dataframe thead th {\n",
       "        text-align: right;\n",
       "    }\n",
       "</style>\n",
       "<table border=\"1\" class=\"dataframe\">\n",
       "  <thead>\n",
       "    <tr style=\"text-align: right;\">\n",
       "      <th></th>\n",
       "      <th>symboling</th>\n",
       "      <th>normalized-losses</th>\n",
       "      <th>make</th>\n",
       "      <th>aspiration</th>\n",
       "      <th>num-of-doors</th>\n",
       "      <th>body-style</th>\n",
       "      <th>drive-wheels</th>\n",
       "      <th>engine-location</th>\n",
       "      <th>wheel-base</th>\n",
       "      <th>length</th>\n",
       "      <th>...</th>\n",
       "      <th>compression-ratio</th>\n",
       "      <th>horsepower</th>\n",
       "      <th>peak-rpm</th>\n",
       "      <th>city-mpg</th>\n",
       "      <th>highway-mpg</th>\n",
       "      <th>price</th>\n",
       "      <th>city-L/100km</th>\n",
       "      <th>horsepower-binned</th>\n",
       "      <th>diesel</th>\n",
       "      <th>gas</th>\n",
       "    </tr>\n",
       "  </thead>\n",
       "  <tbody>\n",
       "    <tr>\n",
       "      <th>0</th>\n",
       "      <td>3</td>\n",
       "      <td>122</td>\n",
       "      <td>alfa-romero</td>\n",
       "      <td>std</td>\n",
       "      <td>two</td>\n",
       "      <td>convertible</td>\n",
       "      <td>rwd</td>\n",
       "      <td>front</td>\n",
       "      <td>88.6</td>\n",
       "      <td>0.811148</td>\n",
       "      <td>...</td>\n",
       "      <td>9.0</td>\n",
       "      <td>111.0</td>\n",
       "      <td>5000.0</td>\n",
       "      <td>21</td>\n",
       "      <td>27</td>\n",
       "      <td>13495.0</td>\n",
       "      <td>11.190476</td>\n",
       "      <td>Medium</td>\n",
       "      <td>0</td>\n",
       "      <td>1</td>\n",
       "    </tr>\n",
       "    <tr>\n",
       "      <th>1</th>\n",
       "      <td>3</td>\n",
       "      <td>122</td>\n",
       "      <td>alfa-romero</td>\n",
       "      <td>std</td>\n",
       "      <td>two</td>\n",
       "      <td>convertible</td>\n",
       "      <td>rwd</td>\n",
       "      <td>front</td>\n",
       "      <td>88.6</td>\n",
       "      <td>0.811148</td>\n",
       "      <td>...</td>\n",
       "      <td>9.0</td>\n",
       "      <td>111.0</td>\n",
       "      <td>5000.0</td>\n",
       "      <td>21</td>\n",
       "      <td>27</td>\n",
       "      <td>16500.0</td>\n",
       "      <td>11.190476</td>\n",
       "      <td>Medium</td>\n",
       "      <td>0</td>\n",
       "      <td>1</td>\n",
       "    </tr>\n",
       "    <tr>\n",
       "      <th>2</th>\n",
       "      <td>1</td>\n",
       "      <td>122</td>\n",
       "      <td>alfa-romero</td>\n",
       "      <td>std</td>\n",
       "      <td>two</td>\n",
       "      <td>hatchback</td>\n",
       "      <td>rwd</td>\n",
       "      <td>front</td>\n",
       "      <td>94.5</td>\n",
       "      <td>0.822681</td>\n",
       "      <td>...</td>\n",
       "      <td>9.0</td>\n",
       "      <td>154.0</td>\n",
       "      <td>5000.0</td>\n",
       "      <td>19</td>\n",
       "      <td>26</td>\n",
       "      <td>16500.0</td>\n",
       "      <td>12.368421</td>\n",
       "      <td>Medium</td>\n",
       "      <td>0</td>\n",
       "      <td>1</td>\n",
       "    </tr>\n",
       "    <tr>\n",
       "      <th>3</th>\n",
       "      <td>2</td>\n",
       "      <td>164</td>\n",
       "      <td>audi</td>\n",
       "      <td>std</td>\n",
       "      <td>four</td>\n",
       "      <td>sedan</td>\n",
       "      <td>fwd</td>\n",
       "      <td>front</td>\n",
       "      <td>99.8</td>\n",
       "      <td>0.848630</td>\n",
       "      <td>...</td>\n",
       "      <td>10.0</td>\n",
       "      <td>102.0</td>\n",
       "      <td>5500.0</td>\n",
       "      <td>24</td>\n",
       "      <td>30</td>\n",
       "      <td>13950.0</td>\n",
       "      <td>9.791667</td>\n",
       "      <td>Medium</td>\n",
       "      <td>0</td>\n",
       "      <td>1</td>\n",
       "    </tr>\n",
       "    <tr>\n",
       "      <th>4</th>\n",
       "      <td>2</td>\n",
       "      <td>164</td>\n",
       "      <td>audi</td>\n",
       "      <td>std</td>\n",
       "      <td>four</td>\n",
       "      <td>sedan</td>\n",
       "      <td>4wd</td>\n",
       "      <td>front</td>\n",
       "      <td>99.4</td>\n",
       "      <td>0.848630</td>\n",
       "      <td>...</td>\n",
       "      <td>8.0</td>\n",
       "      <td>115.0</td>\n",
       "      <td>5500.0</td>\n",
       "      <td>18</td>\n",
       "      <td>22</td>\n",
       "      <td>17450.0</td>\n",
       "      <td>13.055556</td>\n",
       "      <td>Medium</td>\n",
       "      <td>0</td>\n",
       "      <td>1</td>\n",
       "    </tr>\n",
       "  </tbody>\n",
       "</table>\n",
       "<p>5 rows × 29 columns</p>\n",
       "</div>"
      ],
      "text/plain": [
       "   symboling  normalized-losses         make aspiration num-of-doors  \\\n",
       "0          3                122  alfa-romero        std          two   \n",
       "1          3                122  alfa-romero        std          two   \n",
       "2          1                122  alfa-romero        std          two   \n",
       "3          2                164         audi        std         four   \n",
       "4          2                164         audi        std         four   \n",
       "\n",
       "    body-style drive-wheels engine-location  wheel-base    length  ...  \\\n",
       "0  convertible          rwd           front        88.6  0.811148  ...   \n",
       "1  convertible          rwd           front        88.6  0.811148  ...   \n",
       "2    hatchback          rwd           front        94.5  0.822681  ...   \n",
       "3        sedan          fwd           front        99.8  0.848630  ...   \n",
       "4        sedan          4wd           front        99.4  0.848630  ...   \n",
       "\n",
       "   compression-ratio  horsepower  peak-rpm city-mpg highway-mpg    price  \\\n",
       "0                9.0       111.0    5000.0       21          27  13495.0   \n",
       "1                9.0       111.0    5000.0       21          27  16500.0   \n",
       "2                9.0       154.0    5000.0       19          26  16500.0   \n",
       "3               10.0       102.0    5500.0       24          30  13950.0   \n",
       "4                8.0       115.0    5500.0       18          22  17450.0   \n",
       "\n",
       "  city-L/100km  horsepower-binned  diesel  gas  \n",
       "0    11.190476             Medium       0    1  \n",
       "1    11.190476             Medium       0    1  \n",
       "2    12.368421             Medium       0    1  \n",
       "3     9.791667             Medium       0    1  \n",
       "4    13.055556             Medium       0    1  \n",
       "\n",
       "[5 rows x 29 columns]"
      ]
     },
     "execution_count": 6,
     "metadata": {},
     "output_type": "execute_result"
    }
   ],
   "source": [
    "df.drop(['Unnamed: 0.1', 'Unnamed: 0'], axis=1, inplace=True)\n",
    "\n",
    "# Let's take a look at the updated DataFrame\n",
    "df.head()\n"
   ]
  },
  {
   "cell_type": "code",
   "execution_count": 7,
   "id": "63d76217",
   "metadata": {},
   "outputs": [
    {
     "data": {
      "text/html": [
       "<div>\n",
       "<style scoped>\n",
       "    .dataframe tbody tr th:only-of-type {\n",
       "        vertical-align: middle;\n",
       "    }\n",
       "\n",
       "    .dataframe tbody tr th {\n",
       "        vertical-align: top;\n",
       "    }\n",
       "\n",
       "    .dataframe thead th {\n",
       "        text-align: right;\n",
       "    }\n",
       "</style>\n",
       "<table border=\"1\" class=\"dataframe\">\n",
       "  <thead>\n",
       "    <tr style=\"text-align: right;\">\n",
       "      <th></th>\n",
       "      <th>symboling</th>\n",
       "      <th>normalized-losses</th>\n",
       "      <th>wheel-base</th>\n",
       "      <th>length</th>\n",
       "      <th>width</th>\n",
       "      <th>height</th>\n",
       "      <th>curb-weight</th>\n",
       "      <th>engine-size</th>\n",
       "      <th>bore</th>\n",
       "      <th>stroke</th>\n",
       "      <th>compression-ratio</th>\n",
       "      <th>horsepower</th>\n",
       "      <th>peak-rpm</th>\n",
       "      <th>city-mpg</th>\n",
       "      <th>highway-mpg</th>\n",
       "      <th>price</th>\n",
       "      <th>city-L/100km</th>\n",
       "      <th>diesel</th>\n",
       "      <th>gas</th>\n",
       "    </tr>\n",
       "  </thead>\n",
       "  <tbody>\n",
       "    <tr>\n",
       "      <th>0</th>\n",
       "      <td>3</td>\n",
       "      <td>122</td>\n",
       "      <td>88.6</td>\n",
       "      <td>0.811148</td>\n",
       "      <td>0.890278</td>\n",
       "      <td>48.8</td>\n",
       "      <td>2548</td>\n",
       "      <td>130</td>\n",
       "      <td>3.47</td>\n",
       "      <td>2.68</td>\n",
       "      <td>9.0</td>\n",
       "      <td>111.0</td>\n",
       "      <td>5000.0</td>\n",
       "      <td>21</td>\n",
       "      <td>27</td>\n",
       "      <td>13495.0</td>\n",
       "      <td>11.190476</td>\n",
       "      <td>0</td>\n",
       "      <td>1</td>\n",
       "    </tr>\n",
       "    <tr>\n",
       "      <th>1</th>\n",
       "      <td>3</td>\n",
       "      <td>122</td>\n",
       "      <td>88.6</td>\n",
       "      <td>0.811148</td>\n",
       "      <td>0.890278</td>\n",
       "      <td>48.8</td>\n",
       "      <td>2548</td>\n",
       "      <td>130</td>\n",
       "      <td>3.47</td>\n",
       "      <td>2.68</td>\n",
       "      <td>9.0</td>\n",
       "      <td>111.0</td>\n",
       "      <td>5000.0</td>\n",
       "      <td>21</td>\n",
       "      <td>27</td>\n",
       "      <td>16500.0</td>\n",
       "      <td>11.190476</td>\n",
       "      <td>0</td>\n",
       "      <td>1</td>\n",
       "    </tr>\n",
       "    <tr>\n",
       "      <th>2</th>\n",
       "      <td>1</td>\n",
       "      <td>122</td>\n",
       "      <td>94.5</td>\n",
       "      <td>0.822681</td>\n",
       "      <td>0.909722</td>\n",
       "      <td>52.4</td>\n",
       "      <td>2823</td>\n",
       "      <td>152</td>\n",
       "      <td>2.68</td>\n",
       "      <td>3.47</td>\n",
       "      <td>9.0</td>\n",
       "      <td>154.0</td>\n",
       "      <td>5000.0</td>\n",
       "      <td>19</td>\n",
       "      <td>26</td>\n",
       "      <td>16500.0</td>\n",
       "      <td>12.368421</td>\n",
       "      <td>0</td>\n",
       "      <td>1</td>\n",
       "    </tr>\n",
       "    <tr>\n",
       "      <th>3</th>\n",
       "      <td>2</td>\n",
       "      <td>164</td>\n",
       "      <td>99.8</td>\n",
       "      <td>0.848630</td>\n",
       "      <td>0.919444</td>\n",
       "      <td>54.3</td>\n",
       "      <td>2337</td>\n",
       "      <td>109</td>\n",
       "      <td>3.19</td>\n",
       "      <td>3.40</td>\n",
       "      <td>10.0</td>\n",
       "      <td>102.0</td>\n",
       "      <td>5500.0</td>\n",
       "      <td>24</td>\n",
       "      <td>30</td>\n",
       "      <td>13950.0</td>\n",
       "      <td>9.791667</td>\n",
       "      <td>0</td>\n",
       "      <td>1</td>\n",
       "    </tr>\n",
       "    <tr>\n",
       "      <th>4</th>\n",
       "      <td>2</td>\n",
       "      <td>164</td>\n",
       "      <td>99.4</td>\n",
       "      <td>0.848630</td>\n",
       "      <td>0.922222</td>\n",
       "      <td>54.3</td>\n",
       "      <td>2824</td>\n",
       "      <td>136</td>\n",
       "      <td>3.19</td>\n",
       "      <td>3.40</td>\n",
       "      <td>8.0</td>\n",
       "      <td>115.0</td>\n",
       "      <td>5500.0</td>\n",
       "      <td>18</td>\n",
       "      <td>22</td>\n",
       "      <td>17450.0</td>\n",
       "      <td>13.055556</td>\n",
       "      <td>0</td>\n",
       "      <td>1</td>\n",
       "    </tr>\n",
       "  </tbody>\n",
       "</table>\n",
       "</div>"
      ],
      "text/plain": [
       "   symboling  normalized-losses  wheel-base    length     width  height  \\\n",
       "0          3                122        88.6  0.811148  0.890278    48.8   \n",
       "1          3                122        88.6  0.811148  0.890278    48.8   \n",
       "2          1                122        94.5  0.822681  0.909722    52.4   \n",
       "3          2                164        99.8  0.848630  0.919444    54.3   \n",
       "4          2                164        99.4  0.848630  0.922222    54.3   \n",
       "\n",
       "   curb-weight  engine-size  bore  stroke  compression-ratio  horsepower  \\\n",
       "0         2548          130  3.47    2.68                9.0       111.0   \n",
       "1         2548          130  3.47    2.68                9.0       111.0   \n",
       "2         2823          152  2.68    3.47                9.0       154.0   \n",
       "3         2337          109  3.19    3.40               10.0       102.0   \n",
       "4         2824          136  3.19    3.40                8.0       115.0   \n",
       "\n",
       "   peak-rpm  city-mpg  highway-mpg    price  city-L/100km  diesel  gas  \n",
       "0    5000.0        21           27  13495.0     11.190476       0    1  \n",
       "1    5000.0        21           27  16500.0     11.190476       0    1  \n",
       "2    5000.0        19           26  16500.0     12.368421       0    1  \n",
       "3    5500.0        24           30  13950.0      9.791667       0    1  \n",
       "4    5500.0        18           22  17450.0     13.055556       0    1  "
      ]
     },
     "execution_count": 7,
     "metadata": {},
     "output_type": "execute_result"
    }
   ],
   "source": [
    "df1.drop(['Unnamed: 0.1','Unnamed: 0'],axis=1, inplace=True)\n",
    "df1.head()\n"
   ]
  },
  {
   "cell_type": "code",
   "execution_count": 8,
   "id": "381d27f7",
   "metadata": {},
   "outputs": [
    {
     "name": "stdout",
     "output_type": "stream",
     "text": [
      "<class 'pandas.core.frame.DataFrame'>\n",
      "RangeIndex: 201 entries, 0 to 200\n",
      "Data columns (total 19 columns):\n",
      " #   Column             Non-Null Count  Dtype  \n",
      "---  ------             --------------  -----  \n",
      " 0   symboling          201 non-null    int64  \n",
      " 1   normalized-losses  201 non-null    int64  \n",
      " 2   wheel-base         201 non-null    float64\n",
      " 3   length             201 non-null    float64\n",
      " 4   width              201 non-null    float64\n",
      " 5   height             201 non-null    float64\n",
      " 6   curb-weight        201 non-null    int64  \n",
      " 7   engine-size        201 non-null    int64  \n",
      " 8   bore               201 non-null    float64\n",
      " 9   stroke             197 non-null    float64\n",
      " 10  compression-ratio  201 non-null    float64\n",
      " 11  horsepower         201 non-null    float64\n",
      " 12  peak-rpm           201 non-null    float64\n",
      " 13  city-mpg           201 non-null    int64  \n",
      " 14  highway-mpg        201 non-null    int64  \n",
      " 15  price              201 non-null    float64\n",
      " 16  city-L/100km       201 non-null    float64\n",
      " 17  diesel             201 non-null    int64  \n",
      " 18  gas                201 non-null    int64  \n",
      "dtypes: float64(11), int64(8)\n",
      "memory usage: 30.0 KB\n"
     ]
    }
   ],
   "source": [
    "df1.info()"
   ]
  },
  {
   "cell_type": "markdown",
   "id": "0d814ed5",
   "metadata": {},
   "source": [
    "Libraries for plotting:"
   ]
  },
  {
   "cell_type": "code",
   "execution_count": 9,
   "id": "7feda26e",
   "metadata": {},
   "outputs": [],
   "source": [
    "from ipywidgets import interact, interactive, fixed, interact_manual"
   ]
  },
  {
   "cell_type": "markdown",
   "id": "c8e203ae",
   "metadata": {},
   "source": [
    "<h2>Functions for Plotting</h2>"
   ]
  },
  {
   "cell_type": "code",
   "execution_count": 10,
   "id": "9c1b607f",
   "metadata": {},
   "outputs": [],
   "source": [
    "def DistributionPlot(RedFunction, BlueFunction, RedName, BlueName, Title):\n",
    "    width = 10\n",
    "    height = 8\n",
    "    plt.figure(figsize=(width, height))\n",
    "    \n",
    "    ax1 = sns.kdeplot(RedFunction, color=\"r\", label=RedName)\n",
    "    ax2 = sns.kdeplot(BlueFunction, color=\"b\", label=BlueName, ax=ax1)\n",
    "\n",
    "    plt.title(Title)\n",
    "    plt.xlabel('Price (in dollars)')\n",
    "    plt.ylabel('Proportion of Cars')\n",
    "    plt.show()\n",
    "    plt.close()"
   ]
  },
  {
   "cell_type": "code",
   "execution_count": 11,
   "id": "39574167",
   "metadata": {},
   "outputs": [],
   "source": [
    "def PollyPlot(xtrain, xtest, y_train, y_test, lr,poly_transform):\n",
    "    width = 12\n",
    "    height = 10\n",
    "    plt.figure(figsize=(width, height))\n",
    "    \n",
    "    \n",
    "    #training data \n",
    "    #testing data \n",
    "    # lr:  linear regression object \n",
    "    #poly_transform:  polynomial transformation object \n",
    " \n",
    "    xmax=max([xtrain.values.max(), xtest.values.max()])\n",
    "\n",
    "    xmin=min([xtrain.values.min(), xtest.values.min()])\n",
    "\n",
    "    x=np.arange(xmin, xmax, 0.1)\n",
    "\n",
    "\n",
    "    plt.plot(xtrain, y_train, 'ro', label='Training Data')\n",
    "    plt.plot(xtest, y_test, 'go', label='Test Data')\n",
    "    plt.plot(x, lr.predict(poly_transform.fit_transform(x.reshape(-1, 1))), label='Predicted Function')\n",
    "    plt.ylim([-10000, 60000])\n",
    "    plt.ylabel('Price')\n",
    "    plt.legend()"
   ]
  },
  {
   "cell_type": "markdown",
   "id": "1024987d",
   "metadata": {},
   "source": [
    "## Training and Testing\n",
    "\n",
    "An important step in testing your model is to split your data into training and testing data. We will place the target data **price** in a separate dataframe y_data:\n",
    "\n"
   ]
  },
  {
   "cell_type": "code",
   "execution_count": 12,
   "id": "3f5f290b",
   "metadata": {},
   "outputs": [],
   "source": [
    "y_data = df1['price']"
   ]
  },
  {
   "cell_type": "markdown",
   "id": "9a0e86a5",
   "metadata": {},
   "source": [
    "Drop price data in dataframe x_data:"
   ]
  },
  {
   "cell_type": "code",
   "execution_count": 13,
   "id": "cbd1c6c5",
   "metadata": {},
   "outputs": [],
   "source": [
    "x_data= df1.drop('price', axis=1)"
   ]
  },
  {
   "cell_type": "code",
   "execution_count": 14,
   "id": "2559f254",
   "metadata": {},
   "outputs": [
    {
     "data": {
      "text/html": [
       "<div>\n",
       "<style scoped>\n",
       "    .dataframe tbody tr th:only-of-type {\n",
       "        vertical-align: middle;\n",
       "    }\n",
       "\n",
       "    .dataframe tbody tr th {\n",
       "        vertical-align: top;\n",
       "    }\n",
       "\n",
       "    .dataframe thead th {\n",
       "        text-align: right;\n",
       "    }\n",
       "</style>\n",
       "<table border=\"1\" class=\"dataframe\">\n",
       "  <thead>\n",
       "    <tr style=\"text-align: right;\">\n",
       "      <th></th>\n",
       "      <th>symboling</th>\n",
       "      <th>normalized-losses</th>\n",
       "      <th>wheel-base</th>\n",
       "      <th>length</th>\n",
       "      <th>width</th>\n",
       "      <th>height</th>\n",
       "      <th>curb-weight</th>\n",
       "      <th>engine-size</th>\n",
       "      <th>bore</th>\n",
       "      <th>stroke</th>\n",
       "      <th>compression-ratio</th>\n",
       "      <th>horsepower</th>\n",
       "      <th>peak-rpm</th>\n",
       "      <th>city-mpg</th>\n",
       "      <th>highway-mpg</th>\n",
       "      <th>city-L/100km</th>\n",
       "      <th>diesel</th>\n",
       "      <th>gas</th>\n",
       "    </tr>\n",
       "  </thead>\n",
       "  <tbody>\n",
       "    <tr>\n",
       "      <th>0</th>\n",
       "      <td>3</td>\n",
       "      <td>122</td>\n",
       "      <td>88.6</td>\n",
       "      <td>0.811148</td>\n",
       "      <td>0.890278</td>\n",
       "      <td>48.8</td>\n",
       "      <td>2548</td>\n",
       "      <td>130</td>\n",
       "      <td>3.47</td>\n",
       "      <td>2.68</td>\n",
       "      <td>9.0</td>\n",
       "      <td>111.0</td>\n",
       "      <td>5000.0</td>\n",
       "      <td>21</td>\n",
       "      <td>27</td>\n",
       "      <td>11.190476</td>\n",
       "      <td>0</td>\n",
       "      <td>1</td>\n",
       "    </tr>\n",
       "    <tr>\n",
       "      <th>1</th>\n",
       "      <td>3</td>\n",
       "      <td>122</td>\n",
       "      <td>88.6</td>\n",
       "      <td>0.811148</td>\n",
       "      <td>0.890278</td>\n",
       "      <td>48.8</td>\n",
       "      <td>2548</td>\n",
       "      <td>130</td>\n",
       "      <td>3.47</td>\n",
       "      <td>2.68</td>\n",
       "      <td>9.0</td>\n",
       "      <td>111.0</td>\n",
       "      <td>5000.0</td>\n",
       "      <td>21</td>\n",
       "      <td>27</td>\n",
       "      <td>11.190476</td>\n",
       "      <td>0</td>\n",
       "      <td>1</td>\n",
       "    </tr>\n",
       "    <tr>\n",
       "      <th>2</th>\n",
       "      <td>1</td>\n",
       "      <td>122</td>\n",
       "      <td>94.5</td>\n",
       "      <td>0.822681</td>\n",
       "      <td>0.909722</td>\n",
       "      <td>52.4</td>\n",
       "      <td>2823</td>\n",
       "      <td>152</td>\n",
       "      <td>2.68</td>\n",
       "      <td>3.47</td>\n",
       "      <td>9.0</td>\n",
       "      <td>154.0</td>\n",
       "      <td>5000.0</td>\n",
       "      <td>19</td>\n",
       "      <td>26</td>\n",
       "      <td>12.368421</td>\n",
       "      <td>0</td>\n",
       "      <td>1</td>\n",
       "    </tr>\n",
       "    <tr>\n",
       "      <th>3</th>\n",
       "      <td>2</td>\n",
       "      <td>164</td>\n",
       "      <td>99.8</td>\n",
       "      <td>0.848630</td>\n",
       "      <td>0.919444</td>\n",
       "      <td>54.3</td>\n",
       "      <td>2337</td>\n",
       "      <td>109</td>\n",
       "      <td>3.19</td>\n",
       "      <td>3.40</td>\n",
       "      <td>10.0</td>\n",
       "      <td>102.0</td>\n",
       "      <td>5500.0</td>\n",
       "      <td>24</td>\n",
       "      <td>30</td>\n",
       "      <td>9.791667</td>\n",
       "      <td>0</td>\n",
       "      <td>1</td>\n",
       "    </tr>\n",
       "    <tr>\n",
       "      <th>4</th>\n",
       "      <td>2</td>\n",
       "      <td>164</td>\n",
       "      <td>99.4</td>\n",
       "      <td>0.848630</td>\n",
       "      <td>0.922222</td>\n",
       "      <td>54.3</td>\n",
       "      <td>2824</td>\n",
       "      <td>136</td>\n",
       "      <td>3.19</td>\n",
       "      <td>3.40</td>\n",
       "      <td>8.0</td>\n",
       "      <td>115.0</td>\n",
       "      <td>5500.0</td>\n",
       "      <td>18</td>\n",
       "      <td>22</td>\n",
       "      <td>13.055556</td>\n",
       "      <td>0</td>\n",
       "      <td>1</td>\n",
       "    </tr>\n",
       "  </tbody>\n",
       "</table>\n",
       "</div>"
      ],
      "text/plain": [
       "   symboling  normalized-losses  wheel-base    length     width  height  \\\n",
       "0          3                122        88.6  0.811148  0.890278    48.8   \n",
       "1          3                122        88.6  0.811148  0.890278    48.8   \n",
       "2          1                122        94.5  0.822681  0.909722    52.4   \n",
       "3          2                164        99.8  0.848630  0.919444    54.3   \n",
       "4          2                164        99.4  0.848630  0.922222    54.3   \n",
       "\n",
       "   curb-weight  engine-size  bore  stroke  compression-ratio  horsepower  \\\n",
       "0         2548          130  3.47    2.68                9.0       111.0   \n",
       "1         2548          130  3.47    2.68                9.0       111.0   \n",
       "2         2823          152  2.68    3.47                9.0       154.0   \n",
       "3         2337          109  3.19    3.40               10.0       102.0   \n",
       "4         2824          136  3.19    3.40                8.0       115.0   \n",
       "\n",
       "   peak-rpm  city-mpg  highway-mpg  city-L/100km  diesel  gas  \n",
       "0    5000.0        21           27     11.190476       0    1  \n",
       "1    5000.0        21           27     11.190476       0    1  \n",
       "2    5000.0        19           26     12.368421       0    1  \n",
       "3    5500.0        24           30      9.791667       0    1  \n",
       "4    5500.0        18           22     13.055556       0    1  "
      ]
     },
     "execution_count": 14,
     "metadata": {},
     "output_type": "execute_result"
    }
   ],
   "source": [
    "x_data.head(5)"
   ]
  },
  {
   "cell_type": "markdown",
   "id": "27c84d3f",
   "metadata": {},
   "source": [
    "Now, we randomly split our data into training and testing data using the function train_test_split."
   ]
  },
  {
   "cell_type": "code",
   "execution_count": 15,
   "id": "7842e226",
   "metadata": {},
   "outputs": [
    {
     "name": "stdout",
     "output_type": "stream",
     "text": [
      "number of test samples : 21\n",
      "number of training samples: 180\n"
     ]
    }
   ],
   "source": [
    "from sklearn.model_selection import train_test_split\n",
    "\n",
    "\n",
    "x_train, x_test, y_train, y_test = train_test_split(x_data, y_data, test_size=0.1, random_state=1)\n",
    "\n",
    "\n",
    "print(\"number of test samples :\", x_test.shape[0])\n",
    "print(\"number of training samples:\",x_train.shape[0])\n"
   ]
  },
  {
   "cell_type": "code",
   "execution_count": 16,
   "id": "90a3c2f6",
   "metadata": {},
   "outputs": [
    {
     "data": {
      "text/html": [
       "<div>\n",
       "<style scoped>\n",
       "    .dataframe tbody tr th:only-of-type {\n",
       "        vertical-align: middle;\n",
       "    }\n",
       "\n",
       "    .dataframe tbody tr th {\n",
       "        vertical-align: top;\n",
       "    }\n",
       "\n",
       "    .dataframe thead th {\n",
       "        text-align: right;\n",
       "    }\n",
       "</style>\n",
       "<table border=\"1\" class=\"dataframe\">\n",
       "  <thead>\n",
       "    <tr style=\"text-align: right;\">\n",
       "      <th></th>\n",
       "      <th>symboling</th>\n",
       "      <th>normalized-losses</th>\n",
       "      <th>wheel-base</th>\n",
       "      <th>length</th>\n",
       "      <th>width</th>\n",
       "      <th>height</th>\n",
       "      <th>curb-weight</th>\n",
       "      <th>engine-size</th>\n",
       "      <th>bore</th>\n",
       "      <th>stroke</th>\n",
       "      <th>compression-ratio</th>\n",
       "      <th>horsepower</th>\n",
       "      <th>peak-rpm</th>\n",
       "      <th>city-mpg</th>\n",
       "      <th>highway-mpg</th>\n",
       "      <th>city-L/100km</th>\n",
       "      <th>diesel</th>\n",
       "      <th>gas</th>\n",
       "    </tr>\n",
       "  </thead>\n",
       "  <tbody>\n",
       "    <tr>\n",
       "      <th>159</th>\n",
       "      <td>1</td>\n",
       "      <td>168</td>\n",
       "      <td>94.5</td>\n",
       "      <td>0.810668</td>\n",
       "      <td>0.888889</td>\n",
       "      <td>52.6</td>\n",
       "      <td>2169</td>\n",
       "      <td>98</td>\n",
       "      <td>3.19</td>\n",
       "      <td>3.03</td>\n",
       "      <td>9.0</td>\n",
       "      <td>70.0</td>\n",
       "      <td>4800.0</td>\n",
       "      <td>29</td>\n",
       "      <td>34</td>\n",
       "      <td>8.103448</td>\n",
       "      <td>0</td>\n",
       "      <td>1</td>\n",
       "    </tr>\n",
       "    <tr>\n",
       "      <th>16</th>\n",
       "      <td>0</td>\n",
       "      <td>122</td>\n",
       "      <td>110.0</td>\n",
       "      <td>0.946660</td>\n",
       "      <td>0.984722</td>\n",
       "      <td>56.3</td>\n",
       "      <td>3505</td>\n",
       "      <td>209</td>\n",
       "      <td>3.62</td>\n",
       "      <td>3.39</td>\n",
       "      <td>8.0</td>\n",
       "      <td>182.0</td>\n",
       "      <td>5400.0</td>\n",
       "      <td>15</td>\n",
       "      <td>20</td>\n",
       "      <td>15.666667</td>\n",
       "      <td>0</td>\n",
       "      <td>1</td>\n",
       "    </tr>\n",
       "    <tr>\n",
       "      <th>108</th>\n",
       "      <td>0</td>\n",
       "      <td>161</td>\n",
       "      <td>107.9</td>\n",
       "      <td>0.897165</td>\n",
       "      <td>0.950000</td>\n",
       "      <td>56.7</td>\n",
       "      <td>3075</td>\n",
       "      <td>120</td>\n",
       "      <td>3.46</td>\n",
       "      <td>2.19</td>\n",
       "      <td>8.4</td>\n",
       "      <td>95.0</td>\n",
       "      <td>5000.0</td>\n",
       "      <td>19</td>\n",
       "      <td>24</td>\n",
       "      <td>12.368421</td>\n",
       "      <td>0</td>\n",
       "      <td>1</td>\n",
       "    </tr>\n",
       "    <tr>\n",
       "      <th>31</th>\n",
       "      <td>1</td>\n",
       "      <td>101</td>\n",
       "      <td>93.7</td>\n",
       "      <td>0.720807</td>\n",
       "      <td>0.888889</td>\n",
       "      <td>52.6</td>\n",
       "      <td>1837</td>\n",
       "      <td>79</td>\n",
       "      <td>2.91</td>\n",
       "      <td>3.07</td>\n",
       "      <td>10.1</td>\n",
       "      <td>60.0</td>\n",
       "      <td>5500.0</td>\n",
       "      <td>38</td>\n",
       "      <td>42</td>\n",
       "      <td>6.184211</td>\n",
       "      <td>0</td>\n",
       "      <td>1</td>\n",
       "    </tr>\n",
       "  </tbody>\n",
       "</table>\n",
       "</div>"
      ],
      "text/plain": [
       "     symboling  normalized-losses  wheel-base    length     width  height  \\\n",
       "159          1                168        94.5  0.810668  0.888889    52.6   \n",
       "16           0                122       110.0  0.946660  0.984722    56.3   \n",
       "108          0                161       107.9  0.897165  0.950000    56.7   \n",
       "31           1                101        93.7  0.720807  0.888889    52.6   \n",
       "\n",
       "     curb-weight  engine-size  bore  stroke  compression-ratio  horsepower  \\\n",
       "159         2169           98  3.19    3.03                9.0        70.0   \n",
       "16          3505          209  3.62    3.39                8.0       182.0   \n",
       "108         3075          120  3.46    2.19                8.4        95.0   \n",
       "31          1837           79  2.91    3.07               10.1        60.0   \n",
       "\n",
       "     peak-rpm  city-mpg  highway-mpg  city-L/100km  diesel  gas  \n",
       "159    4800.0        29           34      8.103448       0    1  \n",
       "16     5400.0        15           20     15.666667       0    1  \n",
       "108    5000.0        19           24     12.368421       0    1  \n",
       "31     5500.0        38           42      6.184211       0    1  "
      ]
     },
     "execution_count": 16,
     "metadata": {},
     "output_type": "execute_result"
    }
   ],
   "source": [
    "x_train.head(4)"
   ]
  },
  {
   "cell_type": "markdown",
   "id": "1d95103e",
   "metadata": {},
   "source": [
    "Use the function \"train_test_split\" to split up the dataset such that 40% of the data samples will be utilized for testing. Set the parameter \"random_state\" equal to zero. The output of the function should be the following: \"x_train1\" , \"x_test1\", \"y_train1\" and \"y_test1\"."
   ]
  },
  {
   "cell_type": "code",
   "execution_count": 17,
   "id": "2a533f58",
   "metadata": {},
   "outputs": [
    {
     "name": "stdout",
     "output_type": "stream",
     "text": [
      "number of test samples : 81\n",
      "number of training samples: 120\n"
     ]
    }
   ],
   "source": [
    "from sklearn.model_selection import train_test_split\n",
    "\n",
    "\n",
    "x_train1, x_test1, y_train1, y_test1 = train_test_split(x_data, y_data, test_size=0.4, random_state=0)\n",
    "\n",
    "\n",
    "print(\"number of test samples :\", x_test1.shape[0])\n",
    "print(\"number of training samples:\",x_train1.shape[0])\n",
    "\n"
   ]
  },
  {
   "cell_type": "markdown",
   "id": "7228ca17",
   "metadata": {},
   "source": [
    "Let's import LinearRegression from the module linear_model."
   ]
  },
  {
   "cell_type": "code",
   "execution_count": 18,
   "id": "966e910b",
   "metadata": {},
   "outputs": [],
   "source": [
    "from sklearn.linear_model import LinearRegression"
   ]
  },
  {
   "cell_type": "markdown",
   "id": "e20db9de",
   "metadata": {},
   "source": [
    "We create a Linear Regression object:"
   ]
  },
  {
   "cell_type": "code",
   "execution_count": 73,
   "id": "a5c43cf9",
   "metadata": {},
   "outputs": [],
   "source": [
    "lm0 = LinearRegression()"
   ]
  },
  {
   "cell_type": "markdown",
   "id": "fed40849",
   "metadata": {},
   "source": [
    "We fit the model using the feature \"horsepower\":"
   ]
  },
  {
   "cell_type": "code",
   "execution_count": 74,
   "id": "c5811f3c",
   "metadata": {},
   "outputs": [
    {
     "data": {
      "text/plain": [
       "LinearRegression()"
      ]
     },
     "execution_count": 74,
     "metadata": {},
     "output_type": "execute_result"
    }
   ],
   "source": [
    "lm0.fit(x_train[['horsepower']], y_train)\n",
    "\n"
   ]
  },
  {
   "cell_type": "markdown",
   "id": "20638459",
   "metadata": {},
   "source": [
    "Let's calculate the R^2 on the test data:"
   ]
  },
  {
   "cell_type": "code",
   "execution_count": 75,
   "id": "b4747042",
   "metadata": {},
   "outputs": [
    {
     "data": {
      "text/plain": [
       "0.7325101750243116"
      ]
     },
     "execution_count": 75,
     "metadata": {},
     "output_type": "execute_result"
    }
   ],
   "source": [
    "lm0.score(x_test[['horsepower']],y_test)"
   ]
  },
  {
   "cell_type": "markdown",
   "id": "c501617b",
   "metadata": {},
   "source": [
    "We can see the R^2 is much smaller using the test data compared to the training data."
   ]
  },
  {
   "cell_type": "code",
   "execution_count": 76,
   "id": "36778df0",
   "metadata": {},
   "outputs": [
    {
     "data": {
      "text/plain": [
       "0.53"
      ]
     },
     "execution_count": 76,
     "metadata": {},
     "output_type": "execute_result"
    }
   ],
   "source": [
    "round(lm0.score(x_train[['horsepower']],y_train),2)"
   ]
  },
  {
   "cell_type": "code",
   "execution_count": 77,
   "id": "1eb58c0a",
   "metadata": {},
   "outputs": [
    {
     "data": {
      "text/plain": [
       "0.7137134497439634"
      ]
     },
     "execution_count": 77,
     "metadata": {},
     "output_type": "execute_result"
    }
   ],
   "source": [
    "lm0.score(x_test1[['horsepower']],y_test1)"
   ]
  },
  {
   "cell_type": "code",
   "execution_count": 79,
   "id": "4a63ea20",
   "metadata": {},
   "outputs": [
    {
     "data": {
      "text/plain": [
       "0.5753084636655295"
      ]
     },
     "execution_count": 79,
     "metadata": {},
     "output_type": "execute_result"
    }
   ],
   "source": [
    "lm0.score(x_train1[['horsepower']],y_train1)"
   ]
  },
  {
   "cell_type": "markdown",
   "id": "ea705870",
   "metadata": {},
   "source": [
    "### Cross-Validation Score"
   ]
  },
  {
   "cell_type": "markdown",
   "id": "626c71e6",
   "metadata": {},
   "source": [
    "Let's import <b>cross_val_score</b> from the module <b>model_selection</b>.\n"
   ]
  },
  {
   "cell_type": "code",
   "execution_count": 25,
   "id": "aa01c888",
   "metadata": {},
   "outputs": [],
   "source": [
    "from sklearn.model_selection import cross_val_score"
   ]
  },
  {
   "cell_type": "markdown",
   "id": "2ef4cca2",
   "metadata": {},
   "source": [
    "We input the object, the feature (\"horsepower\"), and the target data (y_data). The parameter 'cv' determines the number of folds. In this case, it is 4"
   ]
  },
  {
   "cell_type": "code",
   "execution_count": 26,
   "id": "347962c9",
   "metadata": {},
   "outputs": [],
   "source": [
    "cv_reg = cross_val_score(lm,x_data[['horsepower']],y_data,cv=4)"
   ]
  },
  {
   "cell_type": "markdown",
   "id": "dac90a21",
   "metadata": {},
   "source": [
    "The default scoring is **R^2**. Each element in the array has the average R^2 value for the fold:"
   ]
  },
  {
   "cell_type": "code",
   "execution_count": 27,
   "id": "4691734b",
   "metadata": {},
   "outputs": [
    {
     "data": {
      "text/plain": [
       "array([0.7746232 , 0.51716687, 0.74785353, 0.04839605])"
      ]
     },
     "execution_count": 27,
     "metadata": {},
     "output_type": "execute_result"
    }
   ],
   "source": [
    "cv_reg"
   ]
  },
  {
   "cell_type": "markdown",
   "id": "69a1bbd0",
   "metadata": {},
   "source": [
    "We can calculate the average and standard deviation of our estimate:"
   ]
  },
  {
   "cell_type": "code",
   "execution_count": 28,
   "id": "1c611cd1",
   "metadata": {},
   "outputs": [
    {
     "name": "stdout",
     "output_type": "stream",
     "text": [
      "The mean of the folds are 0.52 and the standard deviation is 0.29\n"
     ]
    }
   ],
   "source": [
    "print(\"The mean of the folds are\", round(cv_reg.mean(),2), \"and the standard deviation is\" , round(cv_reg.std(),2))"
   ]
  },
  {
   "cell_type": "markdown",
   "id": "f0566d5f",
   "metadata": {},
   "source": [
    "We can use negative squared error as a score by setting the parameter 'scoring' metric to 'neg_mean_squared_error'."
   ]
  },
  {
   "cell_type": "code",
   "execution_count": 29,
   "id": "c950fe70",
   "metadata": {},
   "outputs": [
    {
     "data": {
      "text/plain": [
       "array([20254142.84026704, 43745493.26505169, 12539630.34014931,\n",
       "       17561927.7224759 ])"
      ]
     },
     "execution_count": 29,
     "metadata": {},
     "output_type": "execute_result"
    }
   ],
   "source": [
    "-1 * cross_val_score(lm,x_data[['horsepower']], y_data,cv=4,scoring='neg_mean_squared_error')"
   ]
  },
  {
   "cell_type": "markdown",
   "id": "7e5ea699",
   "metadata": {},
   "source": [
    "Calculate the average R^2 using two folds, then find the average R^2 for the second fold utilizing the \"horsepower\" feature:"
   ]
  },
  {
   "cell_type": "code",
   "execution_count": 30,
   "id": "9983b3a8",
   "metadata": {},
   "outputs": [],
   "source": [
    "cv_reg1 = cross_val_score(lm,x_data[['horsepower']],y_data,cv=2)"
   ]
  },
  {
   "cell_type": "code",
   "execution_count": 31,
   "id": "c2f73cfa",
   "metadata": {},
   "outputs": [
    {
     "data": {
      "text/plain": [
       "array([0.59015621, 0.44319613])"
      ]
     },
     "execution_count": 31,
     "metadata": {},
     "output_type": "execute_result"
    }
   ],
   "source": [
    "cv_reg1"
   ]
  },
  {
   "cell_type": "code",
   "execution_count": 32,
   "id": "1489ffe1",
   "metadata": {},
   "outputs": [
    {
     "data": {
      "text/plain": [
       "0.5166761697127433"
      ]
     },
     "execution_count": 32,
     "metadata": {},
     "output_type": "execute_result"
    }
   ],
   "source": [
    "cv_reg1.mean()"
   ]
  },
  {
   "cell_type": "markdown",
   "id": "b31b9a96",
   "metadata": {},
   "source": [
    "You can also use the function 'cross_val_predict' to predict the output. The function splits up the data into the specified number of folds, with one fold for testing and the other folds are used for training. First, import the function:"
   ]
  },
  {
   "cell_type": "code",
   "execution_count": 33,
   "id": "63a2ba52",
   "metadata": {},
   "outputs": [],
   "source": [
    "from sklearn.model_selection import cross_val_predict"
   ]
  },
  {
   "cell_type": "markdown",
   "id": "def1ac8f",
   "metadata": {},
   "source": [
    "We input the LinearRegression object, the feature \"horsepower\", and the target data y_data. The parameter 'cv' determines the number of folds. In this case, it is 4. We can produce an output:"
   ]
  },
  {
   "cell_type": "code",
   "execution_count": 80,
   "id": "598470bf",
   "metadata": {},
   "outputs": [
    {
     "data": {
      "text/plain": [
       "array([14141.63807508, 14141.63807508, 20814.29423473, 12745.03562306,\n",
       "       14762.35027598])"
      ]
     },
     "execution_count": 80,
     "metadata": {},
     "output_type": "execute_result"
    }
   ],
   "source": [
    "yhat = cross_val_predict(lm0, x_data[['horsepower']], y_data, cv=4)\n",
    "yhat[0:5]"
   ]
  },
  {
   "cell_type": "markdown",
   "id": "cd3180f3",
   "metadata": {},
   "source": [
    "## Overfitting, Underfitting and Model Selection\n",
    "It turns out that the test data, sometimes referred to as the \"out of sample data\", is a much better measure of how well your model performs in the real world. One reason for this is overfitting.\n",
    "\n",
    "Let's go over some examples. It turns out these differences are more apparent in Multiple Linear Regression and Polynomial Regression so we will explore overfitting in that context."
   ]
  },
  {
   "cell_type": "markdown",
   "id": "76bb80ad",
   "metadata": {},
   "source": [
    "Let's create Multiple Linear Regression objects and train the model using 'horsepower', 'curb-weight', 'engine-size' and 'highway-mpg' as features"
   ]
  },
  {
   "cell_type": "code",
   "execution_count": 35,
   "id": "c35ff78d",
   "metadata": {},
   "outputs": [
    {
     "data": {
      "text/plain": [
       "LinearRegression()"
      ]
     },
     "execution_count": 35,
     "metadata": {},
     "output_type": "execute_result"
    }
   ],
   "source": [
    "x = x_train[['horsepower','curb-weight','engine-size','highway-mpg']]\n",
    "#y = df[['price']]\n",
    "mlr = LinearRegression()\n",
    "mlr.fit(x,y_train)"
   ]
  },
  {
   "cell_type": "markdown",
   "id": "5b51970e",
   "metadata": {},
   "source": [
    "Prediction using training data(90%):"
   ]
  },
  {
   "cell_type": "code",
   "execution_count": 36,
   "id": "b512a73c",
   "metadata": {},
   "outputs": [
    {
     "data": {
      "text/plain": [
       "array([ 7426.6731551 , 28323.75090803, 14213.38819709,  4052.34146983,\n",
       "       34500.19124244])"
      ]
     },
     "execution_count": 36,
     "metadata": {},
     "output_type": "execute_result"
    }
   ],
   "source": [
    "yhat_train = mlr.predict(x)\n",
    "yhat_train[0:5]"
   ]
  },
  {
   "cell_type": "markdown",
   "id": "c634f774",
   "metadata": {},
   "source": [
    "Prediction using test data(10%):"
   ]
  },
  {
   "cell_type": "code",
   "execution_count": 37,
   "id": "17f6d12f",
   "metadata": {},
   "outputs": [
    {
     "data": {
      "text/plain": [
       "LinearRegression()"
      ]
     },
     "execution_count": 37,
     "metadata": {},
     "output_type": "execute_result"
    }
   ],
   "source": [
    "x1 = x_test[['horsepower','curb-weight','engine-size','highway-mpg']]\n",
    "mlr.fit(x1,y_test)"
   ]
  },
  {
   "cell_type": "code",
   "execution_count": 38,
   "id": "fc7577f5",
   "metadata": {},
   "outputs": [
    {
     "data": {
      "text/plain": [
       "array([ 9624.85531439,  6109.97977865, 11894.65790004,  5951.4654206 ,\n",
       "       12585.04758398])"
      ]
     },
     "execution_count": 38,
     "metadata": {},
     "output_type": "execute_result"
    }
   ],
   "source": [
    "yhat_test = mlr.predict(x1)\n",
    "yhat_test[0:5]"
   ]
  },
  {
   "cell_type": "markdown",
   "id": "8111761e",
   "metadata": {},
   "source": [
    "Let's perform some model evaluation using our training and testing data separately. First, we import the seaborn and matplotlib library for plotting."
   ]
  },
  {
   "cell_type": "code",
   "execution_count": 39,
   "id": "e12a2ea8",
   "metadata": {},
   "outputs": [],
   "source": [
    "import matplotlib.pyplot as plt\n",
    "%matplotlib inline\n",
    "import seaborn as sns"
   ]
  },
  {
   "cell_type": "markdown",
   "id": "2c4769c0",
   "metadata": {},
   "source": [
    "Let's examine the distribution of the predicted values of the training data."
   ]
  },
  {
   "cell_type": "code",
   "execution_count": 40,
   "id": "0ca3c64b",
   "metadata": {},
   "outputs": [
    {
     "data": {
      "image/png": "[encoded data removed]",
      "text/plain": [
       "<Figure size 720x576 with 1 Axes>"
      ]
     },
     "metadata": {
      "needs_background": "light"
     },
     "output_type": "display_data"
    }
   ],
   "source": [
    "Title = 'Distribution  Plot of  Predicted Value Using Training Data vs Training Data Distribution'\n",
    "DistributionPlot(y_train, yhat_train, \"Actual Values (Train)\", \"Predicted Values (Train)\", Title)"
   ]
  },
  {
   "cell_type": "markdown",
   "id": "f41bba38",
   "metadata": {},
   "source": [
    "Plot of predicted values using the training data compared to the actual values of the training data.\n",
    "\n",
    "So far, the model seems to be doing well in learning from the training dataset. But what happens when the model encounters new data from the testing dataset? When the model generates new values from the test data, we see the distribution of the predicted values is much different from the actual target values.\n",
    "\n"
   ]
  },
  {
   "cell_type": "code",
   "execution_count": 41,
   "id": "62d2abe9",
   "metadata": {},
   "outputs": [
    {
     "data": {
      "image/png": "[encoded data removed]",
      "text/plain": [
       "<Figure size 720x576 with 1 Axes>"
      ]
     },
     "metadata": {
      "needs_background": "light"
     },
     "output_type": "display_data"
    }
   ],
   "source": [
    "Title='Distribution  Plot of  Predicted Value Using Test Data vs Data Distribution of Test Data(actual data 0.1%)'\n",
    "DistributionPlot(y_test,yhat_test,\"Actual Values (Test)\",\"Predicted Values (Test)\",Title)"
   ]
  },
  {
   "cell_type": "markdown",
   "id": "91075ff3",
   "metadata": {},
   "source": [
    "<p>Comparing Figure 1 and Figure 2, it is evident that the distribution of the train data in Figure 1 is much better at fitting the data. This difference in Figure 2 is apparent in the range of 5000 to 15,000. This is where the shape of the distribution is extremely different.\n",
    "Let's see if polynomial regression also exhibits a drop in the prediction accuracy when analysing the test dataset.</p>\n"
   ]
  },
  {
   "cell_type": "code",
   "execution_count": 42,
   "id": "81df0691",
   "metadata": {},
   "outputs": [],
   "source": [
    "from sklearn.preprocessing import PolynomialFeatures"
   ]
  },
  {
   "cell_type": "markdown",
   "id": "8f33f384",
   "metadata": {},
   "source": [
    "\n",
    "**Overfitting** occurs when the model fits the noise, but not the underlying process. Therefore, when testing your model using the test set, your model does not perform as well since it is modelling noise, not the underlying process that generated the relationship. Let's create a degree 5 polynomial model.\n",
    "\n",
    "Let's use 55 percent of the data for training and the rest for testing:"
   ]
  },
  {
   "cell_type": "code",
   "execution_count": 43,
   "id": "1fcd36ba",
   "metadata": {},
   "outputs": [],
   "source": [
    "x_train, x_test, y_train, y_test = train_test_split(x_data, y_data, test_size=0.45, random_state=0)"
   ]
  },
  {
   "cell_type": "markdown",
   "id": "2424d7c5",
   "metadata": {},
   "source": [
    "We will perform a degree 5 polynomial transformation on the feature 'horsepower'."
   ]
  },
  {
   "cell_type": "code",
   "execution_count": 44,
   "id": "dedd67a2",
   "metadata": {},
   "outputs": [
    {
     "data": {
      "text/plain": [
       "PolynomialFeatures(degree=5)"
      ]
     },
     "execution_count": 44,
     "metadata": {},
     "output_type": "execute_result"
    }
   ],
   "source": [
    "pr = PolynomialFeatures(degree=5)\n",
    "x_train_pr = pr.fit_transform(x_train[['horsepower']])\n",
    "x_test_pr = pr.fit_transform(x_test[['horsepower']])\n",
    "pr"
   ]
  },
  {
   "cell_type": "markdown",
   "id": "6c2c863a",
   "metadata": {},
   "source": [
    "Now, let's create a Linear Regression model \"poly\" and train it."
   ]
  },
  {
   "cell_type": "code",
   "execution_count": 45,
   "id": "2ead213c",
   "metadata": {},
   "outputs": [],
   "source": [
    "poly=LinearRegression()"
   ]
  },
  {
   "cell_type": "code",
   "execution_count": 46,
   "id": "78addd34",
   "metadata": {},
   "outputs": [
    {
     "data": {
      "text/plain": [
       "LinearRegression()"
      ]
     },
     "execution_count": 46,
     "metadata": {},
     "output_type": "execute_result"
    }
   ],
   "source": [
    "poly.fit(x_train_pr, y_train)"
   ]
  },
  {
   "cell_type": "markdown",
   "id": "caa6dcb8",
   "metadata": {},
   "source": [
    "We can see the output of our model using the method \"predict.\" We assign the values to \"yhat\"."
   ]
  },
  {
   "cell_type": "code",
   "execution_count": 47,
   "id": "bedc14b3",
   "metadata": {},
   "outputs": [
    {
     "data": {
      "text/plain": [
       "array([ 6728.58570379,  7307.91929088, 12213.73699414, 18893.38048649,\n",
       "       19996.10769628])"
      ]
     },
     "execution_count": 47,
     "metadata": {},
     "output_type": "execute_result"
    }
   ],
   "source": [
    "yhat = poly.predict(x_test_pr)\n",
    "yhat[0:5]"
   ]
  },
  {
   "cell_type": "markdown",
   "id": "ea734301",
   "metadata": {},
   "source": [
    "Let's take the first five predicted values and compare it to the actual targets."
   ]
  },
  {
   "cell_type": "code",
   "execution_count": 48,
   "id": "aa3a0fad",
   "metadata": {},
   "outputs": [
    {
     "name": "stdout",
     "output_type": "stream",
     "text": [
      "Predicted values: [ 6728.58570379  7307.91929088 12213.73699414 18893.38048649\n",
      " 19996.10769628]\n",
      "True values: [ 6295. 10698. 13860. 13499. 15750.]\n"
     ]
    }
   ],
   "source": [
    "print(\"Predicted values:\", yhat[0:5])\n",
    "print(\"True values:\", y_test[0:5].values)"
   ]
  },
  {
   "cell_type": "markdown",
   "id": "368e94ee",
   "metadata": {},
   "source": [
    "We will use the function \"PollyPlot\" that we defined at the beginning of the lab to display the training data, testing data, and the predicted function.\n",
    "\n"
   ]
  },
  {
   "cell_type": "code",
   "execution_count": 49,
   "id": "677d0e42",
   "metadata": {},
   "outputs": [
    {
     "data": {
      "image/png": "[encoded data removed]",
      "text/plain": [
       "<Figure size 864x720 with 1 Axes>"
      ]
     },
     "metadata": {
      "needs_background": "light"
     },
     "output_type": "display_data"
    }
   ],
   "source": [
    "PollyPlot(x_train['horsepower'], x_test['horsepower'], y_train, y_test, poly,pr)"
   ]
  },
  {
   "cell_type": "markdown",
   "id": "e55b85db",
   "metadata": {},
   "source": [
    "A polynomial regression model where red dots represent training data, green dots represent test data, and the blue line represents the model prediction.\n",
    "\n"
   ]
  },
  {
   "cell_type": "markdown",
   "id": "1544ec6f",
   "metadata": {},
   "source": [
    "We see that the estimated function appears to track the data but around 200 horsepower, the function begins to diverge from the data points.\n"
   ]
  },
  {
   "cell_type": "markdown",
   "id": "3ab71619",
   "metadata": {},
   "source": [
    "R^2 of the training data:"
   ]
  },
  {
   "cell_type": "code",
   "execution_count": 50,
   "id": "e6c35e5d",
   "metadata": {},
   "outputs": [
    {
     "data": {
      "text/plain": [
       "0.5567716897678656"
      ]
     },
     "execution_count": 50,
     "metadata": {},
     "output_type": "execute_result"
    }
   ],
   "source": [
    "poly.score(x_train_pr, y_train)"
   ]
  },
  {
   "cell_type": "markdown",
   "id": "5c39730e",
   "metadata": {},
   "source": [
    "R^2 of the test data:"
   ]
  },
  {
   "cell_type": "code",
   "execution_count": 51,
   "id": "32b10a4b",
   "metadata": {},
   "outputs": [
    {
     "data": {
      "text/plain": [
       "-29.870992258827485"
      ]
     },
     "execution_count": 51,
     "metadata": {},
     "output_type": "execute_result"
    }
   ],
   "source": [
    "poly.score(x_test_pr, y_test)"
   ]
  },
  {
   "cell_type": "markdown",
   "id": "92aacbcc",
   "metadata": {},
   "source": [
    "We see the R^2 for the training data is 0.5567 while the R^2 on the test data was -29.87. The lower the R^2, the worse the model. A negative R^2 is a sign of overfitting.\n",
    "\n",
    "Let's see how the R^2 changes on the test data for different order polynomials and then plot the results:"
   ]
  },
  {
   "cell_type": "code",
   "execution_count": 62,
   "id": "e716a6ed",
   "metadata": {},
   "outputs": [
    {
     "data": {
      "text/plain": [
       "Text(3, 0.75, 'Maximum R^2 ')"
      ]
     },
     "execution_count": 62,
     "metadata": {},
     "output_type": "execute_result"
    },
    {
     "data": {
      "image/png": "[encoded data removed]",
      "text/plain": [
       "<Figure size 432x288 with 1 Axes>"
      ]
     },
     "metadata": {
      "needs_background": "light"
     },
     "output_type": "display_data"
    }
   ],
   "source": [
    "Rsqu_test = []\n",
    "\n",
    "order = [1, 2, 3, 4]\n",
    "for n in order:\n",
    "    pr = PolynomialFeatures(degree=n)\n",
    "    \n",
    "    x_train_pr = pr.fit_transform(x_train[['horsepower']])\n",
    "    \n",
    "    x_test_pr = pr.fit_transform(x_test[['horsepower']])    \n",
    "    \n",
    "    mlr.fit(x_train_pr, y_train)\n",
    "    \n",
    "    Rsqu_test.append(mlr.score(x_test_pr, y_test))\n",
    "\n",
    "plt.plot(order, Rsqu_test)\n",
    "plt.xlabel('order')\n",
    "plt.ylabel('R^2')\n",
    "plt.title('R^2 Using Test Data')\n",
    "plt.text(3, 0.75, 'Maximum R^2 ')    "
   ]
  },
  {
   "cell_type": "markdown",
   "id": "48c00f96",
   "metadata": {},
   "source": [
    "We see the R^2 gradually increases until an order three polynomial is used. Then, the R^2 dramatically decreases at an order four polynomial.\n",
    "\n",
    "The following function will be used in the next section. Please run the cell below."
   ]
  },
  {
   "cell_type": "code",
   "execution_count": 60,
   "id": "d1e4fe20",
   "metadata": {},
   "outputs": [],
   "source": [
    "def f(order, test_data):\n",
    "    x_train, x_test, y_train, y_test = train_test_split(x_data, y_data, test_size=test_data, random_state=0)\n",
    "    pr = PolynomialFeatures(degree=order)\n",
    "    x_train_pr = pr.fit_transform(x_train[['horsepower']])\n",
    "    x_test_pr = pr.fit_transform(x_test[['horsepower']])\n",
    "    poly = LinearRegression()\n",
    "    poly.fit(x_train_pr,y_train)\n",
    "    PollyPlot(x_train['horsepower'], x_test['horsepower'], y_train, y_test, poly,pr)"
   ]
  },
  {
   "cell_type": "markdown",
   "id": "bd71d1be",
   "metadata": {},
   "source": [
    "The following interface allows you to experiment with different polynomial orders and different amounts of data.\n"
   ]
  },
  {
   "cell_type": "code",
   "execution_count": 63,
   "id": "0ca90980",
   "metadata": {},
   "outputs": [
    {
     "data": {
      "application/vnd.jupyter.widget-view+json": {
       "model_id": "8cad437435f041adacb9e7589281f1e3",
       "version_major": 2,
       "version_minor": 0
      },
      "text/plain": [
       "interactive(children=(IntSlider(value=3, description='order', max=6), FloatSlider(value=0.45, description='tes…"
      ]
     },
     "metadata": {},
     "output_type": "display_data"
    },
    {
     "data": {
      "text/plain": [
       "<function __main__.f(order, test_data)>"
      ]
     },
     "execution_count": 63,
     "metadata": {},
     "output_type": "execute_result"
    }
   ],
   "source": [
    "interact(f, order=(0, 6, 1), test_data=(0.05, 0.95, 0.05))"
   ]
  },
  {
   "cell_type": "code",
   "execution_count": 81,
   "id": "82c3020a",
   "metadata": {},
   "outputs": [
    {
     "data": {
      "image/png": "[encoded data removed]",
      "text/plain": [
       "<Figure size 864x720 with 1 Axes>"
      ]
     },
     "metadata": {
      "needs_background": "light"
     },
     "output_type": "display_data"
    }
   ],
   "source": [
    "f(4,0.45)"
   ]
  },
  {
   "cell_type": "markdown",
   "id": "56fc3cdd",
   "metadata": {},
   "source": [
    "We can perform polynomial transformations with more than one feature. Create a \"PolynomialFeatures\" object \"pr1\" of degree two."
   ]
  },
  {
   "cell_type": "code",
   "execution_count": 83,
   "id": "31d962c3",
   "metadata": {},
   "outputs": [],
   "source": [
    "pr1=PolynomialFeatures(degree=2)"
   ]
  },
  {
   "cell_type": "code",
   "execution_count": 84,
   "id": "1ea6923f",
   "metadata": {},
   "outputs": [],
   "source": [
    "x_train_pr1=pr1.fit_transform(x_train[['horsepower','curb-weight','engine-size','highway-mpg']])\n",
    "x_test_pr1=pr1.fit_transform(x_test[['horsepower','curb-weight','engine-size','highway-mpg']])\n"
   ]
  },
  {
   "cell_type": "code",
   "execution_count": 87,
   "id": "75ac5ede",
   "metadata": {},
   "outputs": [
    {
     "name": "stdout",
     "output_type": "stream",
     "text": [
      "The new feature has:(110, 15)dimensions\n"
     ]
    }
   ],
   "source": [
    "print(f\"The new feature has:{x_train_pr1.shape}dimensions\")"
   ]
  },
  {
   "cell_type": "markdown",
   "id": "356eea3f",
   "metadata": {},
   "source": [
    "Create a linear regression model \"poly1\". Train the object using the method \"fit\" using the polynomial features.</b>\n"
   ]
  },
  {
   "cell_type": "code",
   "execution_count": 88,
   "id": "a2220610",
   "metadata": {},
   "outputs": [],
   "source": [
    "poly1= LinearRegression()\n"
   ]
  },
  {
   "cell_type": "code",
   "execution_count": 89,
   "id": "8de4c8c7",
   "metadata": {},
   "outputs": [
    {
     "data": {
      "text/plain": [
       "LinearRegression()"
      ]
     },
     "execution_count": 89,
     "metadata": {},
     "output_type": "execute_result"
    }
   ],
   "source": [
    "poly1.fit(x_train_pr1,y_train)"
   ]
  },
  {
   "cell_type": "markdown",
   "id": "4eeb6ac2",
   "metadata": {},
   "source": [
    "Use the method \"predict\" to predict an output on the polynomial features, then use the function \"DistributionPlot\" to display the distribution of the predicted test output vs. the actual test data."
   ]
  },
  {
   "cell_type": "code",
   "execution_count": 95,
   "id": "2b462139",
   "metadata": {},
   "outputs": [],
   "source": [
    "yhat_test1=poly1.predict(x_test_pr1)"
   ]
  },
  {
   "cell_type": "code",
   "execution_count": 97,
   "id": "d1744b34",
   "metadata": {},
   "outputs": [
    {
     "data": {
      "image/png": "[encoded data removed]",
      "text/plain": [
       "<Figure size 720x576 with 1 Axes>"
      ]
     },
     "metadata": {
      "needs_background": "light"
     },
     "output_type": "display_data"
    }
   ],
   "source": [
    "Title='Distribution  Plot of  Predicted Value Using Test Data vs Data Distribution of Test Data'\n",
    "\n",
    "DistributionPlot(y_test, yhat_test1, \"Actual Values (Test)\", \"Predicted Values (Test)\", Title)"
   ]
  },
  {
   "cell_type": "markdown",
   "id": "acde10b7",
   "metadata": {},
   "source": [
    "Using the distribution plot above, describe (in words) the two regions where the predicted prices are less accurate than the actual prices."
   ]
  },
  {
   "cell_type": "markdown",
   "id": "ebd6d33f",
   "metadata": {},
   "source": [
    "#The predicted value is higher than actual value for cars where the price $10,000 range, conversely the predicted price is lower than the price cost in the $30,000 to $40,000 range. As such the model is not as accurate in these ranges."
   ]
  },
  {
   "cell_type": "markdown",
   "id": "cd67d21b",
   "metadata": {},
   "source": [
    "## Ridge Regression"
   ]
  },
  {
   "cell_type": "markdown",
   "id": "82835a74",
   "metadata": {},
   "source": [
    "In this section, we will review Ridge Regression and see how the parameter alpha changes the model. Just a note, here our test data will be used as validation data.\n",
    "\n",
    "Let's perform a degree two polynomial transformation on our data."
   ]
  },
  {
   "cell_type": "code",
   "execution_count": 99,
   "id": "400e8a4e",
   "metadata": {},
   "outputs": [],
   "source": [
    "pr2=PolynomialFeatures(degree=2)\n",
    "x_train_pr2=pr2.fit_transform(x_train[['horsepower', 'curb-weight', 'engine-size', 'highway-mpg','normalized-losses','symboling']])\n",
    "x_test_pr2=pr2.fit_transform(x_test[['horsepower', 'curb-weight', 'engine-size', 'highway-mpg','normalized-losses','symboling']])"
   ]
  },
  {
   "cell_type": "markdown",
   "id": "6cd29e28",
   "metadata": {},
   "source": [
    "Let's import Ridge from the module linear models."
   ]
  },
  {
   "cell_type": "code",
   "execution_count": 101,
   "id": "5191fbc6",
   "metadata": {},
   "outputs": [],
   "source": [
    "from sklearn.linear_model import Ridge"
   ]
  },
  {
   "cell_type": "markdown",
   "id": "928d6e79",
   "metadata": {},
   "source": [
    "Let's create a Ridge regression object, setting the regularization parameter (alpha) to 0.1"
   ]
  },
  {
   "cell_type": "code",
   "execution_count": 105,
   "id": "cf1c3ef6",
   "metadata": {},
   "outputs": [],
   "source": [
    "RigeModel=Ridge(alpha=0.1)"
   ]
  },
  {
   "cell_type": "markdown",
   "id": "eac9a7af",
   "metadata": {},
   "source": [
    "Like regular regression, you can fit the model using the method fit."
   ]
  },
  {
   "cell_type": "code",
   "execution_count": 106,
   "id": "9b7ac9f5",
   "metadata": {},
   "outputs": [
    {
     "data": {
      "text/plain": [
       "Ridge(alpha=0.1)"
      ]
     },
     "execution_count": 106,
     "metadata": {},
     "output_type": "execute_result"
    }
   ],
   "source": [
    "RigeModel.fit(x_train_pr2, y_train)"
   ]
  },
  {
   "cell_type": "markdown",
   "id": "1ec7ab9e",
   "metadata": {},
   "source": [
    "Similarly, you can obtain a prediction:"
   ]
  },
  {
   "cell_type": "code",
   "execution_count": 114,
   "id": "8fba26dc",
   "metadata": {},
   "outputs": [
    {
     "data": {
      "text/plain": [
       "array([ 6567.83081933,  9597.97151399, 20836.22326843, 19347.69543463,\n",
       "       21402.65500379,  9667.8149467 ,  9607.00214904,  7089.32643689,\n",
       "       17124.90320898,  7193.28883223])"
      ]
     },
     "execution_count": 114,
     "metadata": {},
     "output_type": "execute_result"
    }
   ],
   "source": [
    "yhat_RigeModel=RigeModel.predict(x_test_pr2)\n",
    "yhat_RigeModel[0:10]"
   ]
  },
  {
   "cell_type": "markdown",
   "id": "0f3d04ad",
   "metadata": {},
   "source": [
    "Let's compare the first five predicted samples to our test set:"
   ]
  },
  {
   "cell_type": "code",
   "execution_count": 119,
   "id": "c4e8ed8f",
   "metadata": {},
   "outputs": [
    {
     "name": "stdout",
     "output_type": "stream",
     "text": [
      "Predicted values: [ 6567.83081933  9597.97151399 20836.22326843 19347.69543463\n",
      " 21402.65500379]\n",
      "Actual test values: [ 6295. 10698. 13860. 13499. 15750.]\n"
     ]
    }
   ],
   "source": [
    "print(\"Predicted values:\",yhat_RigeModel[0:5])\n",
    "print(\"Actual test values:\",y_test[0:5].values)\n"
   ]
  },
  {
   "cell_type": "markdown",
   "id": "413187cc",
   "metadata": {},
   "source": [
    "We select the value of alpha that minimizes the test error. To do so, we can use a for loop. We have also created a progress bar to see how many iterations we have completed so far."
   ]
  },
  {
   "cell_type": "code",
   "execution_count": 120,
   "id": "519d3831",
   "metadata": {},
   "outputs": [
    {
     "name": "stderr",
     "output_type": "stream",
     "text": [
      "100%|████████████████████████████████████████| 1000/1000 [00:03<00:00, 277.71it/s, Test Score=0.564, Train Score=0.859]\n"
     ]
    }
   ],
   "source": [
    "from tqdm import tqdm\n",
    "\n",
    "Rsqu_test = []\n",
    "Rsqu_train = []\n",
    "dummy1 = []\n",
    "Alpha = 10 * np.array(range(0,1000))\n",
    "pbar = tqdm(Alpha)\n",
    "\n",
    "for alpha in pbar:\n",
    "    RigeModel = Ridge(alpha=alpha) \n",
    "    RigeModel.fit(x_train_pr2, y_train)\n",
    "    test_score, train_score = RigeModel.score(x_test_pr2, y_test), RigeModel.score(x_train_pr2, y_train)\n",
    "    \n",
    "    pbar.set_postfix({\"Test Score\": test_score, \"Train Score\": train_score})\n",
    "\n",
    "    Rsqu_test.append(test_score)\n",
    "    Rsqu_train.append(train_score)"
   ]
  },
  {
   "cell_type": "code",
   "execution_count": 122,
   "id": "77388639",
   "metadata": {},
   "outputs": [
    {
     "data": {
      "text/plain": [
       "<matplotlib.legend.Legend at 0x1f1e0cf2d00>"
      ]
     },
     "execution_count": 122,
     "metadata": {},
     "output_type": "execute_result"
    },
    {
     "data": {
      "image/png": "[encoded data removed]",
      "text/plain": [
       "<Figure size 864x720 with 1 Axes>"
      ]
     },
     "metadata": {
      "needs_background": "light"
     },
     "output_type": "display_data"
    }
   ],
   "source": [
    "width = 12\n",
    "height = 10\n",
    "plt.figure(figsize=(width, height))\n",
    "\n",
    "plt.plot(Alpha,Rsqu_test, label='validation data  ')\n",
    "plt.plot(Alpha,Rsqu_train, 'r', label='training Data ')\n",
    "plt.xlabel('alpha')\n",
    "plt.ylabel('R^2')\n",
    "plt.legend()"
   ]
  },
  {
   "cell_type": "markdown",
   "id": "27ea3f67",
   "metadata": {},
   "source": [
    "Perform Ridge regression. Calculate the R^2 using the polynomial features, use the training data to train the model and use the test data to test the model. The parameter alpha should be set to 10."
   ]
  },
  {
   "cell_type": "code",
   "execution_count": 123,
   "id": "ce8981eb",
   "metadata": {},
   "outputs": [
    {
     "data": {
      "text/plain": [
       "0.5418576440206205"
      ]
     },
     "execution_count": 123,
     "metadata": {},
     "output_type": "execute_result"
    }
   ],
   "source": [
    "RigeModel1=Ridge(alpha=10)\n",
    "RigeModel1.fit(x_train_pr2, y_train)\n",
    "RigeModel1.score(x_test_pr2, y_test)"
   ]
  },
  {
   "cell_type": "markdown",
   "id": "1d78c245",
   "metadata": {},
   "source": [
    "## Grid Search\n",
    "The term alpha is a hyperparameter. Sklearn has the class GridSearchCV to make the process of finding the best hyperparameter simpler.\n",
    "\n",
    "Let's import GridSearchCV from the module model_selection."
   ]
  },
  {
   "cell_type": "code",
   "execution_count": 124,
   "id": "59c0eee8",
   "metadata": {},
   "outputs": [],
   "source": [
    "from sklearn.model_selection import GridSearchCV "
   ]
  },
  {
   "cell_type": "markdown",
   "id": "008428e8",
   "metadata": {},
   "source": [
    "We create a dictionary of parameter values:"
   ]
  },
  {
   "cell_type": "code",
   "execution_count": 126,
   "id": "0cafdc1f",
   "metadata": {},
   "outputs": [
    {
     "data": {
      "text/plain": [
       "[{'alpha': [0.001, 0.1, 1, 10, 100, 1000, 10000, 100000, 100000]}]"
      ]
     },
     "execution_count": 126,
     "metadata": {},
     "output_type": "execute_result"
    }
   ],
   "source": [
    "parameters= [{'alpha': [0.001,0.1,1, 10, 100, 1000, 10000, 100000, 100000]}]\n",
    "parameters"
   ]
  },
  {
   "cell_type": "markdown",
   "id": "fa201424",
   "metadata": {},
   "source": [
    "Create a Ridge regression object:"
   ]
  },
  {
   "cell_type": "code",
   "execution_count": 127,
   "id": "e3ef42a9",
   "metadata": {},
   "outputs": [
    {
     "data": {
      "text/plain": [
       "Ridge()"
      ]
     },
     "execution_count": 127,
     "metadata": {},
     "output_type": "execute_result"
    }
   ],
   "source": [
    "RR=Ridge()\n",
    "RR"
   ]
  },
  {
   "cell_type": "markdown",
   "id": "aa5ee8d5",
   "metadata": {},
   "source": [
    "Create a ridge grid search object:"
   ]
  },
  {
   "cell_type": "code",
   "execution_count": 129,
   "id": "56191a62",
   "metadata": {},
   "outputs": [],
   "source": [
    " grid = GridSearchCV(RR,parameters,cv=4)"
   ]
  },
  {
   "cell_type": "markdown",
   "id": "fb649111",
   "metadata": {},
   "source": [
    "Fit the model:"
   ]
  },
  {
   "cell_type": "code",
   "execution_count": 130,
   "id": "d50ac9cb",
   "metadata": {},
   "outputs": [
    {
     "data": {
      "text/plain": [
       "GridSearchCV(cv=4, estimator=Ridge(),\n",
       "             param_grid=[{'alpha': [0.001, 0.1, 1, 10, 100, 1000, 10000, 100000,\n",
       "                                    100000]}])"
      ]
     },
     "execution_count": 130,
     "metadata": {},
     "output_type": "execute_result"
    }
   ],
   "source": [
    "grid.fit(x_data[['horsepower', 'curb-weight', 'engine-size', 'highway-mpg']], y_data)"
   ]
  },
  {
   "cell_type": "markdown",
   "id": "e2ddcd4a",
   "metadata": {},
   "source": [
    "The object finds the best parameter values on the validation data. We can obtain the estimator with the best parameters and assign it to the variable BestRR as follows"
   ]
  },
  {
   "cell_type": "code",
   "execution_count": 131,
   "id": "ddfc60a5",
   "metadata": {},
   "outputs": [
    {
     "data": {
      "text/plain": [
       "Ridge(alpha=10000)"
      ]
     },
     "execution_count": 131,
     "metadata": {},
     "output_type": "execute_result"
    }
   ],
   "source": [
    "BestRR=grid.best_estimator_\n",
    "BestRR"
   ]
  },
  {
   "cell_type": "markdown",
   "id": "8d3d3c82",
   "metadata": {},
   "source": [
    "We now test our model on the test data:"
   ]
  },
  {
   "cell_type": "code",
   "execution_count": 135,
   "id": "ea3cb3e3",
   "metadata": {},
   "outputs": [
    {
     "data": {
      "text/plain": [
       "0.8411649831036151"
      ]
     },
     "execution_count": 135,
     "metadata": {},
     "output_type": "execute_result"
    }
   ],
   "source": [
    "grid.score(x_test[['horsepower', 'curb-weight', 'engine-size', 'highway-mpg']], y_test)"
   ]
  },
  {
   "cell_type": "markdown",
   "id": "f9a1e82c",
   "metadata": {},
   "source": [
    "Perform a grid search for the alpha parameter and the normalization parameter, then find the best values of the parameters:"
   ]
  },
  {
   "cell_type": "code",
   "execution_count": 138,
   "id": "d51d6fa3",
   "metadata": {},
   "outputs": [
    {
     "data": {
      "text/plain": [
       "Ridge(alpha=10000)"
      ]
     },
     "execution_count": 138,
     "metadata": {},
     "output_type": "execute_result"
    }
   ],
   "source": [
    "parameters2 = [{'alpha': [0.001, 0.1, 1, 10, 100, 1000, 10000, 100000, 100000]}]\n",
    "\n",
    "Grid2 = GridSearchCV(Ridge(), parameters2, cv=4)\n",
    "Grid2.fit(x_data[['horsepower', 'curb-weight', 'engine-size', 'highway-mpg']], y_data)\n",
    "best_alpha = Grid2.best_params_['alpha']\n",
    "best_ridge_model = Ridge(alpha=best_alpha)\n",
    "best_ridge_model.fit(x_data[['horsepower', 'curb-weight', 'engine-size', 'highway-mpg']], y_data)\n"
   ]
  },
  {
   "cell_type": "code",
   "execution_count": null,
   "id": "449996b5",
   "metadata": {},
   "outputs": [],
   "source": []
  }
 ],
 "metadata": {
  "kernelspec": {
   "display_name": "Python 3 (ipykernel)",
   "language": "python",
   "name": "python3"
  },
  "language_info": {
   "codemirror_mode": {
    "name": "ipython",
    "version": 3
   },
   "file_extension": ".py",
   "mimetype": "text/x-python",
   "name": "python",
   "nbconvert_exporter": "python",
   "pygments_lexer": "ipython3",
   "version": "3.9.12"
  }
 },
 "nbformat": 4,
 "nbformat_minor": 5
}
