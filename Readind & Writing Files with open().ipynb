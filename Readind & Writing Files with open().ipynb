{
 "cells": [
  {
   "cell_type": "code",
   "execution_count": 156,
   "id": "87fba683",
   "metadata": {},
   "outputs": [],
   "source": [
    "#Run this prior to starting the exercise\n",
    "from random import randint as rnd\n",
    "\n",
    "memReg = 'members.txt'\n",
    "exReg = 'inactive.txt'\n",
    "fee =('yes','no')\n",
    "\n",
    "def genFiles(current,old):\n",
    "    with open(current,'w+') as writefile: \n",
    "        writefile.write('Membership No  Date Joined  Active  \\n')\n",
    "        data = \"{:^13}  {:<11}  {:<6}\\n\"\n",
    "\n",
    "        for rowno in range(20):\n",
    "            date = str(rnd(2015,2020))+ '-' + str(rnd(1,12))+'-'+str(rnd(1,25))\n",
    "            writefile.write(data.format(rnd(10000,99999),date,fee[rnd(0,1)]))\n",
    "\n",
    "\n",
    "    with open(old,'w+') as writefile: \n",
    "        writefile.write('Membership No  Date Joined  Active  \\n')\n",
    "        data = \"{:^13}  {:<11}  {:<6}\\n\"\n",
    "        for rowno in range(3):\n",
    "            date = str(rnd(2015,2020))+ '-' + str(rnd(1,12))+'-'+str(rnd(1,25))\n",
    "            writefile.write(data.format(rnd(10000,99999),date,fee[1]))\n",
    "\n",
    "\n",
    "\n"
   ]
  },
  {
   "cell_type": "code",
   "execution_count": 157,
   "id": "4d21dd72",
   "metadata": {},
   "outputs": [],
   "source": [
    "genFiles(memReg,exReg)"
   ]
  },
  {
   "cell_type": "code",
   "execution_count": 158,
   "id": "a1daa109",
   "metadata": {},
   "outputs": [],
   "source": [
    "def cleanFiles(currentMem, exMem):\n",
    "    # TODO: Open the currentMem file as in r+ mode\n",
    "        #TODO: Open the exMem file in a+ mode\n",
    " \n",
    "    with open(memReg,'r')as members:\n",
    "        with open('active.txt','w')as active:\n",
    "              with open(exReg, 'a')as inactivem:\n",
    "                L=members.readlines()\n",
    "                mylist=[]\n",
    "                for line in L:\n",
    "                    if line.split()[2]=='no':\n",
    "                        mylist.append(line)\n",
    "                        inactivem.write(line) \n",
    "                    else:\n",
    "                         active.write(line)\n",
    "    return mylist\n",
    "        \n",
    "        #TODO: Read each member in the currentMem (1 member per row) file into a list.\n",
    "        # Hint: Recall that the first line in the file is the header.\n",
    "\n",
    "        #TODO: iterate through the members and create a new list of the innactive members\n",
    "\n",
    "        # Go to the beginning of the currentMem file\n",
    "        # TODO: Iterate through the members list. \n",
    "        # If a member is inactive, add them to exMem, otherwise write them into currentMem\n",
    "\n",
    "        "
   ]
  },
  {
   "cell_type": "code",
   "execution_count": 159,
   "id": "6920e4c5",
   "metadata": {},
   "outputs": [
    {
     "name": "stdout",
     "output_type": "stream",
     "text": [
      "    97517      2015-9-11    no    \n",
      "\n",
      "    18254      2016-11-13   no    \n",
      "\n",
      "    32641      2018-8-15    no    \n",
      "\n",
      "    59289      2015-7-17    no    \n",
      "\n",
      "    45342      2015-3-18    yes   \n",
      "\n",
      "    75169      2018-3-11    yes   \n",
      "\n",
      "    35636      2016-6-13    yes   \n",
      "\n",
      "    47814      2020-9-19    no    \n",
      "\n",
      "    82432      2016-8-20    no    \n",
      "\n",
      "    64250      2018-10-8    no    \n",
      "\n",
      "    73983      2017-11-14   no    \n",
      "\n",
      "    63635      2018-12-6    yes   \n",
      "\n",
      "    38865      2017-2-17    yes   \n",
      "\n",
      "    89861      2020-2-24    no    \n",
      "\n",
      "    77613      2015-5-15    no    \n",
      "\n",
      "    26394      2017-6-22    yes   \n",
      "\n",
      "    14164      2018-10-5    yes   \n",
      "\n",
      "    11422      2020-12-15   yes   \n",
      "\n",
      "    86963      2018-10-22   no    \n",
      "\n",
      "    84488      2015-10-10   no    \n",
      "\n"
     ]
    }
   ],
   "source": [
    " with open(memReg,'r')as members:\n",
    "        with open('active.txt','w')as active:\n",
    "              with open(exReg, 'a')as inactivem:\n",
    "                L=members.readlines()\n",
    "                #print(L[0])\n",
    "                L.pop(0)\n",
    "                for line in L:\n",
    "                    print(line)"
   ]
  },
  {
   "cell_type": "code",
   "execution_count": 160,
   "id": "08f68f35",
   "metadata": {},
   "outputs": [
    {
     "data": {
      "text/plain": [
       "['    97517      2015-9-11    no    \\n',\n",
       " '    18254      2016-11-13   no    \\n',\n",
       " '    32641      2018-8-15    no    \\n',\n",
       " '    59289      2015-7-17    no    \\n',\n",
       " '    47814      2020-9-19    no    \\n',\n",
       " '    82432      2016-8-20    no    \\n',\n",
       " '    64250      2018-10-8    no    \\n',\n",
       " '    73983      2017-11-14   no    \\n',\n",
       " '    89861      2020-2-24    no    \\n',\n",
       " '    77613      2015-5-15    no    \\n',\n",
       " '    86963      2018-10-22   no    \\n',\n",
       " '    84488      2015-10-10   no    \\n']"
      ]
     },
     "execution_count": 160,
     "metadata": {},
     "output_type": "execute_result"
    }
   ],
   "source": [
    "cleanFiles(memReg, exReg)"
   ]
  },
  {
   "cell_type": "code",
   "execution_count": 161,
   "id": "f857da9d",
   "metadata": {},
   "outputs": [
    {
     "name": "stdout",
     "output_type": "stream",
     "text": [
      "Active Members: \n",
      "\n",
      "\n",
      "Membership No  Date Joined  Active  \n",
      "    97517      2015-9-11    no    \n",
      "    18254      2016-11-13   no    \n",
      "    32641      2018-8-15    no    \n",
      "    59289      2015-7-17    no    \n",
      "    45342      2015-3-18    yes   \n",
      "    75169      2018-3-11    yes   \n",
      "    35636      2016-6-13    yes   \n",
      "    47814      2020-9-19    no    \n",
      "    82432      2016-8-20    no    \n",
      "    64250      2018-10-8    no    \n",
      "    73983      2017-11-14   no    \n",
      "    63635      2018-12-6    yes   \n",
      "    38865      2017-2-17    yes   \n",
      "    89861      2020-2-24    no    \n",
      "    77613      2015-5-15    no    \n",
      "    26394      2017-6-22    yes   \n",
      "    14164      2018-10-5    yes   \n",
      "    11422      2020-12-15   yes   \n",
      "    86963      2018-10-22   no    \n",
      "    84488      2015-10-10   no    \n",
      "\n",
      "Inactive Members: \n",
      "\n",
      "\n",
      "Membership No  Date Joined  Active  \n",
      "    80052      2018-9-23    no    \n",
      "    94618      2017-1-2     no    \n",
      "    92513      2018-2-23    no    \n",
      "    97517      2015-9-11    no    \n",
      "    18254      2016-11-13   no    \n",
      "    32641      2018-8-15    no    \n",
      "    59289      2015-7-17    no    \n",
      "    47814      2020-9-19    no    \n",
      "    82432      2016-8-20    no    \n",
      "    64250      2018-10-8    no    \n",
      "    73983      2017-11-14   no    \n",
      "    89861      2020-2-24    no    \n",
      "    77613      2015-5-15    no    \n",
      "    86963      2018-10-22   no    \n",
      "    84488      2015-10-10   no    \n",
      "\n"
     ]
    }
   ],
   "source": [
    "headers = \"Membership No  Date Joined  Active  \\n\"\n",
    "with open(memReg,'r') as readFile:\n",
    "    print(\"Active Members: \\n\\n\")\n",
    "    print(readFile.read())\n",
    "    \n",
    "with open(exReg,'r') as readFile:\n",
    "    print(\"Inactive Members: \\n\\n\")\n",
    "    print(readFile.read())\n",
    "                "
   ]
  },
  {
   "cell_type": "code",
   "execution_count": 162,
   "id": "fa844e28",
   "metadata": {},
   "outputs": [],
   "source": [
    " with open(memReg,'r+')as activem:\n",
    "        L=activem.readlines()\n",
    "        for line in L:\n",
    "            if line[2] == 'yes':\n",
    "                 print(line)\n",
    "       \n",
    "           "
   ]
  },
  {
   "cell_type": "code",
   "execution_count": 163,
   "id": "9047a2e0",
   "metadata": {},
   "outputs": [],
   "source": [
    "Lines = [\"This is line 1\", \"This is line 2\", \"This is line 3\"]\n",
    "# Create a new file Example3.txt for writing\n",
    "with open('example.txt', 'w') as file1:\n",
    "    for line in Lines:\n",
    "        file1.write(line + \"\\n\")"
   ]
  },
  {
   "cell_type": "code",
   "execution_count": 164,
   "id": "22f9e6be",
   "metadata": {},
   "outputs": [],
   "source": [
    "Lines = [\"This is line 1\", \"This is line 1\", \"This is line 1\"]\n",
    "# Create a new file Example3.txt for writing\n",
    "with open('example.txt', 'a') as file1:\n",
    "    for line in Lines:\n",
    "        file1.write(line + \"\\n\")"
   ]
  },
  {
   "cell_type": "code",
   "execution_count": 165,
   "id": "95bab9c5",
   "metadata": {},
   "outputs": [
    {
     "ename": "FileExistsError",
     "evalue": "[Errno 17] File exists: 'example.txt'",
     "output_type": "error",
     "traceback": [
      "\u001b[1;31m---------------------------------------------------------------------------\u001b[0m",
      "\u001b[1;31mFileExistsError\u001b[0m                           Traceback (most recent call last)",
      "Input \u001b[1;32mIn [165]\u001b[0m, in \u001b[0;36m<cell line: 1>\u001b[1;34m()\u001b[0m\n\u001b[1;32m----> 1\u001b[0m \u001b[38;5;28;01mwith\u001b[39;00m \u001b[38;5;28;43mopen\u001b[39;49m\u001b[43m(\u001b[49m\u001b[38;5;124;43m'\u001b[39;49m\u001b[38;5;124;43mexample.txt\u001b[39;49m\u001b[38;5;124;43m'\u001b[39;49m\u001b[43m,\u001b[49m\u001b[43m \u001b[49m\u001b[38;5;124;43m'\u001b[39;49m\u001b[38;5;124;43mx\u001b[39;49m\u001b[38;5;124;43m'\u001b[39;49m\u001b[43m)\u001b[49m\u001b[38;5;28;01mas\u001b[39;00m file1:\n\u001b[0;32m      2\u001b[0m     file1\u001b[38;5;241m.\u001b[39mwrite(\u001b[38;5;124m'\u001b[39m\u001b[38;5;124mhello\u001b[39m\u001b[38;5;124m'\u001b[39m)\n",
      "\u001b[1;31mFileExistsError\u001b[0m: [Errno 17] File exists: 'example.txt'"
     ]
    }
   ],
   "source": [
    "with open('example.txt', 'x')as file1:\n",
    "    file1.write('hello')"
   ]
  },
  {
   "cell_type": "code",
   "execution_count": 166,
   "id": "96b5cd4b",
   "metadata": {},
   "outputs": [],
   "source": [
    "exmp2 = 'Example2.txt'\n",
    "with open(exmp2, 'w') as writefile:\n",
    "    writefile.write(\"This is line A\")"
   ]
  },
  {
   "cell_type": "code",
   "execution_count": 167,
   "id": "348d8c11",
   "metadata": {},
   "outputs": [
    {
     "name": "stdout",
     "output_type": "stream",
     "text": [
      "This is line A\n"
     ]
    }
   ],
   "source": [
    "with open(exmp2, 'r') as testwritefile:\n",
    "    print(testwritefile.read())"
   ]
  },
  {
   "cell_type": "code",
   "execution_count": 168,
   "id": "5c115e23",
   "metadata": {},
   "outputs": [
    {
     "name": "stdout",
     "output_type": "stream",
     "text": [
      "This is line A\n"
     ]
    }
   ],
   "source": [
    "with open(exmp2, 'r') as writefile:\n",
    "    \n",
    "    print(writefile.read())\n",
    "    "
   ]
  },
  {
   "cell_type": "code",
   "execution_count": 169,
   "id": "5496f96c",
   "metadata": {},
   "outputs": [
    {
     "ename": "ValueError",
     "evalue": "I/O operation on closed file.",
     "output_type": "error",
     "traceback": [
      "\u001b[1;31m---------------------------------------------------------------------------\u001b[0m",
      "\u001b[1;31mValueError\u001b[0m                                Traceback (most recent call last)",
      "Input \u001b[1;32mIn [169]\u001b[0m, in \u001b[0;36m<cell line: 1>\u001b[1;34m()\u001b[0m\n\u001b[1;32m----> 1\u001b[0m \u001b[38;5;28mprint\u001b[39m(\u001b[43mwritefile\u001b[49m\u001b[38;5;241;43m.\u001b[39;49m\u001b[43mread\u001b[49m\u001b[43m(\u001b[49m\u001b[43m)\u001b[49m)\n",
      "\u001b[1;31mValueError\u001b[0m: I/O operation on closed file."
     ]
    }
   ],
   "source": [
    "print(writefile.read())"
   ]
  },
  {
   "cell_type": "code",
   "execution_count": 170,
   "id": "1248ba76",
   "metadata": {},
   "outputs": [
    {
     "name": "stdout",
     "output_type": "stream",
     "text": [
      "This is line A\n"
     ]
    }
   ],
   "source": [
    "with open(exmp2, 'r') as testwritefile:\n",
    "    print(testwritefile.read(28))"
   ]
  },
  {
   "cell_type": "code",
   "execution_count": 171,
   "id": "85e1ae88",
   "metadata": {},
   "outputs": [
    {
     "name": "stdout",
     "output_type": "stream",
     "text": [
      "    45342      2015-3-18    yes   \n",
      "\n",
      "    75169      2018-3-11    yes   \n",
      "\n",
      "    35636      2016-6-13    yes   \n",
      "\n",
      "    63635      2018-12-6    yes   \n",
      "\n",
      "    38865      2017-2-17    yes   \n",
      "\n",
      "    26394      2017-6-22    yes   \n",
      "\n",
      "    14164      2018-10-5    yes   \n",
      "\n",
      "    11422      2020-12-15   yes   \n",
      "\n"
     ]
    }
   ],
   "source": [
    " with open(memReg,'r+')as activem:\n",
    "        L=activem.readlines()\n",
    "        for line in L:\n",
    "            if line.split()[2]=='yes':\n",
    "                print(line)\n",
    "       "
   ]
  },
  {
   "cell_type": "code",
   "execution_count": 172,
   "id": "34e8de2b",
   "metadata": {},
   "outputs": [
    {
     "data": {
      "text/plain": [
       "str"
      ]
     },
     "execution_count": 172,
     "metadata": {},
     "output_type": "execute_result"
    }
   ],
   "source": [
    "type(line.split()[2])"
   ]
  },
  {
   "cell_type": "code",
   "execution_count": 173,
   "id": "7f1dd9f3",
   "metadata": {},
   "outputs": [
    {
     "name": "stdout",
     "output_type": "stream",
     "text": [
      "Inactive members in file\n",
      "Test Failed\n"
     ]
    }
   ],
   "source": [
    "def testMsg(passed):\n",
    "    if passed:\n",
    "        return 'Test Passed'\n",
    "    else :\n",
    "        return 'Test Failed'\n",
    "\n",
    "testWrite = \"testWrite.txt\"\n",
    "testAppend =\"testAppend.txt\" \n",
    "passed = True\n",
    "\n",
    "genFiles(testWrite,testAppend)\n",
    "\n",
    "with open(testWrite,'r') as file:\n",
    "    ogWrite = file.readlines()\n",
    "\n",
    "with open(testAppend,'r') as file:\n",
    "    ogAppend = file.readlines()\n",
    "\n",
    "try:\n",
    "    cleanFiles(testWrite,testAppend)\n",
    "except:\n",
    "    print('Error')\n",
    "\n",
    "with open(testWrite,'r') as file:\n",
    "    clWrite = file.readlines()\n",
    "\n",
    "with open(testAppend,'r') as file:\n",
    "    clAppend = file.readlines()\n",
    "        \n",
    "# checking if total no of rows is same, including headers\n",
    "\n",
    "if (len(ogWrite) + len(ogAppend) != len(clWrite) + len(clAppend)):\n",
    "    print(\"The number of rows do not add up. Make sure your final files have the same header and format.\")\n",
    "    passed = False\n",
    "    \n",
    "for line in clWrite:\n",
    "    if  'no' in line:\n",
    "        passed = False\n",
    "        print(\"Inactive members in file\")\n",
    "        break\n",
    "    else:\n",
    "        if line not in ogWrite:\n",
    "            print(\"Data in file does not match original file\")\n",
    "            passed = False\n",
    "print (\"{}\".format(testMsg(passed)))\n",
    "    \n",
    "\n"
   ]
  }
 ],
 "metadata": {
  "kernelspec": {
   "display_name": "Python 3 (ipykernel)",
   "language": "python",
   "name": "python3"
  },
  "language_info": {
   "codemirror_mode": {
    "name": "ipython",
    "version": 3
   },
   "file_extension": ".py",
   "mimetype": "text/x-python",
   "name": "python",
   "nbconvert_exporter": "python",
   "pygments_lexer": "ipython3",
   "version": "3.9.12"
  }
 },
 "nbformat": 4,
 "nbformat_minor": 5
}
