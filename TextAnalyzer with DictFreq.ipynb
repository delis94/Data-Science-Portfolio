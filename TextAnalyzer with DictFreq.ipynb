{
 "cells": [
  {
   "cell_type": "code",
   "execution_count": 1,
   "id": "b31a4ca7",
   "metadata": {},
   "outputs": [],
   "source": [
    "givenstring=\"Lorem ipsum dolor! diam amet, consetetur Lorem magna. sed diam nonumy eirmod tempor. diam et labore? et diam magna. et diam amet.\""
   ]
  },
  {
   "cell_type": "code",
   "execution_count": 2,
   "id": "6711ccc5",
   "metadata": {},
   "outputs": [],
   "source": [
    "#class TextAnalyzer(object):\n",
    "    \n",
    "      \n",
    " #   def __ini__(self,text):\n",
    "  #      self.text=text\n",
    "   #     textlow=text.lower()\n",
    "       \n",
    "    #def replace():\n",
    "     #   punc = '''!()-[]{};:'\"\\,<>./?@#$%^&*_~''' \n",
    "      #  for elem in textlow:\n",
    "        #    if elem in punc:\n",
    "       #         textlow= textlow.replace(elem,\"\")   \n",
    "            \n",
    "        "
   ]
  },
  {
   "cell_type": "code",
   "execution_count": 30,
   "id": "4da002b9",
   "metadata": {},
   "outputs": [],
   "source": [
    "class TextAnalzer(object):\n",
    "    \n",
    "    def __init__ (self, text):\n",
    "        # remove punctuation\n",
    "        formattedText = text.replace('.','').replace('!','').replace('?','').replace(',','').replace('(','').replace(')','')\n",
    "        \n",
    "        # make text lowercase\n",
    "        formattedText = formattedText.lower()\n",
    "        \n",
    "        self.fmtText = formattedText\n",
    "        \n",
    "    def freqAll(self):   \n",
    "        chunks = self.fmtText.split()\n",
    "        mydict={}\n",
    "        for word in chunks:\n",
    "            if word not in mydict:\n",
    "                 mydict[word]= 1\n",
    "            else:\n",
    "                mydict[word]= mydict[word]+1\n",
    "        return mydict\n",
    "            \n",
    "    def freqOf(self,word):\n",
    "        chunks = self.fmtText.split()\n",
    "        if  word in chunks:\n",
    "            mydict={}\n",
    "            mydict[word] = chunks.count(word)\n",
    "            count=chunks.count(word)\n",
    "        else:\n",
    "            count=0   \n",
    "            \n",
    "        return count"
   ]
  },
  {
   "cell_type": "code",
   "execution_count": 46,
   "id": "bf8b077b",
   "metadata": {},
   "outputs": [
    {
     "name": "stdout",
     "output_type": "stream",
     "text": [
      "Formatted text:lorem ipsum dolor diam amet consetetur lorem magna sed diam nonumy eirmod tempor diam et labore et diam magna et diam amet\n"
     ]
    }
   ],
   "source": [
    "t1=TextAnalzer(givenstring)\n",
    "print(f'Formatted text:{t1.fmtText}')"
   ]
  },
  {
   "cell_type": "code",
   "execution_count": 32,
   "id": "2fb1e86f",
   "metadata": {},
   "outputs": [
    {
     "data": {
      "text/plain": [
       "{'lorem': 2,\n",
       " 'ipsum': 1,\n",
       " 'dolor': 1,\n",
       " 'diam': 5,\n",
       " 'amet': 2,\n",
       " 'consetetur': 1,\n",
       " 'magna': 2,\n",
       " 'sed': 1,\n",
       " 'nonumy': 1,\n",
       " 'eirmod': 1,\n",
       " 'tempor': 1,\n",
       " 'et': 3,\n",
       " 'labore': 1}"
      ]
     },
     "execution_count": 32,
     "metadata": {},
     "output_type": "execute_result"
    }
   ],
   "source": [
    "t1.freqAll()"
   ]
  },
  {
   "cell_type": "code",
   "execution_count": 33,
   "id": "9b6a4697",
   "metadata": {},
   "outputs": [],
   "source": [
    "def freqAll(self):        \n",
    "        # split text into words\n",
    "        wordList = self.fmtText.split(' ')\n",
    "        \n",
    "        # Create dictionary\n",
    "        freqMap = {}\n",
    "        for word in set(wordList): # use set to remove duplicates in list\n",
    "\n",
    "            freqMap[word] = wordList.count(word)\n",
    "        print(freqMap[word])\n",
    "        return freqMap"
   ]
  },
  {
   "cell_type": "code",
   "execution_count": 34,
   "id": "a2a93bb1",
   "metadata": {},
   "outputs": [
    {
     "data": {
      "text/plain": [
       "{'lorem': 2,\n",
       " 'ipsum': 1,\n",
       " 'dolor': 1,\n",
       " 'diam': 5,\n",
       " 'amet': 2,\n",
       " 'consetetur': 1,\n",
       " 'magna': 2,\n",
       " 'sed': 1,\n",
       " 'nonumy': 1,\n",
       " 'eirmod': 1,\n",
       " 'tempor': 1,\n",
       " 'et': 3,\n",
       " 'labore': 1}"
      ]
     },
     "execution_count": 34,
     "metadata": {},
     "output_type": "execute_result"
    }
   ],
   "source": [
    "t1.freqAll()"
   ]
  },
  {
   "cell_type": "code",
   "execution_count": 35,
   "id": "cc1fc265",
   "metadata": {},
   "outputs": [
    {
     "name": "stdout",
     "output_type": "stream",
     "text": [
      "nonumy\n",
      "consetetur\n",
      "et\n",
      "magna.\n",
      "sed\n",
      "tempor.\n",
      "amet,\n",
      "Lorem\n",
      "labore?\n",
      "dolor!\n",
      "eirmod\n",
      "amet.\n",
      "ipsum\n",
      "diam\n"
     ]
    }
   ],
   "source": [
    "ss=givenstring.split(' ')\n",
    "\n",
    "for word in set(ss):\n",
    "    print(word)"
   ]
  },
  {
   "cell_type": "code",
   "execution_count": 36,
   "id": "70921163",
   "metadata": {},
   "outputs": [
    {
     "data": {
      "text/plain": [
       "5"
      ]
     },
     "execution_count": 36,
     "metadata": {},
     "output_type": "execute_result"
    }
   ],
   "source": [
    "ss.count(word)"
   ]
  },
  {
   "cell_type": "code",
   "execution_count": 37,
   "id": "f65552e8",
   "metadata": {},
   "outputs": [
    {
     "data": {
      "text/plain": [
       "{'Lorem',\n",
       " 'amet,',\n",
       " 'amet.',\n",
       " 'consetetur',\n",
       " 'diam',\n",
       " 'dolor!',\n",
       " 'eirmod',\n",
       " 'et',\n",
       " 'ipsum',\n",
       " 'labore?',\n",
       " 'magna.',\n",
       " 'nonumy',\n",
       " 'sed',\n",
       " 'tempor.'}"
      ]
     },
     "execution_count": 37,
     "metadata": {},
     "output_type": "execute_result"
    }
   ],
   "source": [
    "set(ss)"
   ]
  },
  {
   "cell_type": "code",
   "execution_count": 38,
   "id": "33beb4df",
   "metadata": {},
   "outputs": [
    {
     "data": {
      "text/plain": [
       "3"
      ]
     },
     "execution_count": 38,
     "metadata": {},
     "output_type": "execute_result"
    }
   ],
   "source": [
    "t1.freqOf('et')"
   ]
  },
  {
   "cell_type": "code",
   "execution_count": 39,
   "id": "c584d569",
   "metadata": {},
   "outputs": [],
   "source": [
    " def freqOf(self,word):\n",
    "        # get frequency map\n",
    "        freqDict = self.freqAll()\n",
    "        print(freqDict)\n",
    "        if word in freqDict:\n",
    "            return freqDict[word]\n",
    "        else:\n",
    "            return 0"
   ]
  },
  {
   "cell_type": "code",
   "execution_count": 42,
   "id": "fc7a5252",
   "metadata": {},
   "outputs": [
    {
     "data": {
      "text/plain": [
       "0"
      ]
     },
     "execution_count": 42,
     "metadata": {},
     "output_type": "execute_result"
    }
   ],
   "source": [
    "t1.freqOf('ipsumkn')"
   ]
  },
  {
   "cell_type": "code",
   "execution_count": 49,
   "id": "91036bb0",
   "metadata": {},
   "outputs": [
    {
     "name": "stdout",
     "output_type": "stream",
     "text": [
      "1\n",
      "2\n",
      "3\n",
      "4\n",
      "5\n",
      "6\n",
      "7\n",
      "8\n",
      "9\n",
      "10\n"
     ]
    }
   ],
   "source": [
    "for num in range(1, 11): \n",
    "    print(num) "
   ]
  },
  {
   "cell_type": "code",
   "execution_count": 50,
   "id": "3140bbde",
   "metadata": {},
   "outputs": [
    {
     "data": {
      "text/plain": [
       "True"
      ]
     },
     "execution_count": 50,
     "metadata": {},
     "output_type": "execute_result"
    }
   ],
   "source": [
    "5>=2"
   ]
  },
  {
   "cell_type": "code",
   "execution_count": 52,
   "id": "168cdb3d",
   "metadata": {},
   "outputs": [
    {
     "name": "stdout",
     "output_type": "stream",
     "text": [
      "1\n",
      "2\n",
      "4\n",
      "5\n"
     ]
    }
   ],
   "source": [
    "for num in range(1, 6):\n",
    "    if num == 3:\n",
    "        continue\n",
    "    print(num)"
   ]
  },
  {
   "cell_type": "code",
   "execution_count": 61,
   "id": "96dd9a14",
   "metadata": {},
   "outputs": [
    {
     "name": "stdout",
     "output_type": "stream",
     "text": [
      "Enter a number: 5155\n",
      "You enetered: 5155\n"
     ]
    }
   ],
   "source": [
    "try: \n",
    "    num = int(input(\"Enter a number: \")) \n",
    "except ValueError: \n",
    "    print(\"Invalid input. Please enter a valid number.\")\n",
    "else:\n",
    "    print('You enetered:',num)"
   ]
  },
  {
   "cell_type": "code",
   "execution_count": 66,
   "id": "41744ee3",
   "metadata": {},
   "outputs": [
    {
     "name": "stdout",
     "output_type": "stream",
     "text": [
      "File not found.\n"
     ]
    },
    {
     "ename": "NameError",
     "evalue": "name 'file' is not defined",
     "output_type": "error",
     "traceback": [
      "\u001b[1;31m---------------------------------------------------------------------------\u001b[0m",
      "\u001b[1;31mNameError\u001b[0m                                 Traceback (most recent call last)",
      "Input \u001b[1;32mIn [66]\u001b[0m, in \u001b[0;36m<cell line: 1>\u001b[1;34m()\u001b[0m\n\u001b[0;32m      5\u001b[0m     \u001b[38;5;28mprint\u001b[39m(\u001b[38;5;124m\"\u001b[39m\u001b[38;5;124mFile not found.\u001b[39m\u001b[38;5;124m\"\u001b[39m) \n\u001b[0;32m      6\u001b[0m \u001b[38;5;28;01mfinally\u001b[39;00m: \n\u001b[1;32m----> 7\u001b[0m     \u001b[43mfile\u001b[49m\u001b[38;5;241m.\u001b[39mclose()\n",
      "\u001b[1;31mNameError\u001b[0m: name 'file' is not defined"
     ]
    }
   ],
   "source": [
    "try: \n",
    "    file = open(\"data.txt\", \"r\") \n",
    "    data = file.read() \n",
    "except FileNotFoundError: \n",
    "    print(\"File not found.\") \n",
    "finally: \n",
    "    file.close()"
   ]
  },
  {
   "cell_type": "code",
   "execution_count": 67,
   "id": "a146d2ca",
   "metadata": {},
   "outputs": [
    {
     "name": "stdout",
     "output_type": "stream",
     "text": [
      "0 AA\n",
      "1 BB\n",
      "2 CC\n"
     ]
    }
   ],
   "source": [
    "for i, x in enumerate(['A', 'B', 'C']): \n",
    "    print(i, 2 * x)"
   ]
  },
  {
   "cell_type": "code",
   "execution_count": null,
   "id": "ad8f2c6f",
   "metadata": {},
   "outputs": [],
   "source": []
  }
 ],
 "metadata": {
  "kernelspec": {
   "display_name": "Python 3 (ipykernel)",
   "language": "python",
   "name": "python3"
  },
  "language_info": {
   "codemirror_mode": {
    "name": "ipython",
    "version": 3
   },
   "file_extension": ".py",
   "mimetype": "text/x-python",
   "name": "python",
   "nbconvert_exporter": "python",
   "pygments_lexer": "ipython3",
   "version": "3.9.12"
  }
 },
 "nbformat": 4,
 "nbformat_minor": 5
}
