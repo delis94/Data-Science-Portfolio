{
 "cells": [
  {
   "cell_type": "code",
   "execution_count": 3,
   "id": "1d67992f",
   "metadata": {},
   "outputs": [],
   "source": [
    "import pandas as pd\n",
    "import numpy as np\n",
    "import matplotlib.pyplot as plt\n",
    "import seaborn as sns\n",
    "from sklearn.linear_model import LinearRegression\n",
    "from sklearn.preprocessing import StandardScaler, PolynomialFeatures\n",
    "from sklearn.pipeline import Pipeline\n",
    "from sklearn.metrics import mean_squared_error, r2_score\n",
    "import warnings\n",
    "warnings.filterwarnings(\"ignore\", category=UserWarning) \n",
    "%matplotlib inline"
   ]
  },
  {
   "cell_type": "code",
   "execution_count": 9,
   "id": "ece9c129",
   "metadata": {},
   "outputs": [
    {
     "data": {
      "text/html": [
       "<div>\n",
       "<style scoped>\n",
       "    .dataframe tbody tr th:only-of-type {\n",
       "        vertical-align: middle;\n",
       "    }\n",
       "\n",
       "    .dataframe tbody tr th {\n",
       "        vertical-align: top;\n",
       "    }\n",
       "\n",
       "    .dataframe thead th {\n",
       "        text-align: right;\n",
       "    }\n",
       "</style>\n",
       "<table border=\"1\" class=\"dataframe\">\n",
       "  <thead>\n",
       "    <tr style=\"text-align: right;\">\n",
       "      <th></th>\n",
       "      <th>Unnamed: 0.1</th>\n",
       "      <th>Unnamed: 0</th>\n",
       "      <th>Manufacturer</th>\n",
       "      <th>Category</th>\n",
       "      <th>GPU</th>\n",
       "      <th>OS</th>\n",
       "      <th>CPU_core</th>\n",
       "      <th>Screen_Size_inch</th>\n",
       "      <th>CPU_frequency</th>\n",
       "      <th>RAM_GB</th>\n",
       "      <th>Storage_GB_SSD</th>\n",
       "      <th>Weight_pounds</th>\n",
       "      <th>Price</th>\n",
       "      <th>Price-binned</th>\n",
       "      <th>Screen-Full_HD</th>\n",
       "      <th>Screen-IPS_panel</th>\n",
       "    </tr>\n",
       "  </thead>\n",
       "  <tbody>\n",
       "    <tr>\n",
       "      <th>0</th>\n",
       "      <td>0</td>\n",
       "      <td>0</td>\n",
       "      <td>Acer</td>\n",
       "      <td>4</td>\n",
       "      <td>2</td>\n",
       "      <td>1</td>\n",
       "      <td>5</td>\n",
       "      <td>14.0</td>\n",
       "      <td>0.551724</td>\n",
       "      <td>8</td>\n",
       "      <td>256</td>\n",
       "      <td>3.52800</td>\n",
       "      <td>978</td>\n",
       "      <td>Low</td>\n",
       "      <td>0</td>\n",
       "      <td>1</td>\n",
       "    </tr>\n",
       "    <tr>\n",
       "      <th>1</th>\n",
       "      <td>1</td>\n",
       "      <td>1</td>\n",
       "      <td>Dell</td>\n",
       "      <td>3</td>\n",
       "      <td>1</td>\n",
       "      <td>1</td>\n",
       "      <td>3</td>\n",
       "      <td>15.6</td>\n",
       "      <td>0.689655</td>\n",
       "      <td>4</td>\n",
       "      <td>256</td>\n",
       "      <td>4.85100</td>\n",
       "      <td>634</td>\n",
       "      <td>Low</td>\n",
       "      <td>1</td>\n",
       "      <td>0</td>\n",
       "    </tr>\n",
       "    <tr>\n",
       "      <th>2</th>\n",
       "      <td>2</td>\n",
       "      <td>2</td>\n",
       "      <td>Dell</td>\n",
       "      <td>3</td>\n",
       "      <td>1</td>\n",
       "      <td>1</td>\n",
       "      <td>7</td>\n",
       "      <td>15.6</td>\n",
       "      <td>0.931034</td>\n",
       "      <td>8</td>\n",
       "      <td>256</td>\n",
       "      <td>4.85100</td>\n",
       "      <td>946</td>\n",
       "      <td>Low</td>\n",
       "      <td>1</td>\n",
       "      <td>0</td>\n",
       "    </tr>\n",
       "    <tr>\n",
       "      <th>3</th>\n",
       "      <td>3</td>\n",
       "      <td>3</td>\n",
       "      <td>Dell</td>\n",
       "      <td>4</td>\n",
       "      <td>2</td>\n",
       "      <td>1</td>\n",
       "      <td>5</td>\n",
       "      <td>13.3</td>\n",
       "      <td>0.551724</td>\n",
       "      <td>8</td>\n",
       "      <td>128</td>\n",
       "      <td>2.69010</td>\n",
       "      <td>1244</td>\n",
       "      <td>Low</td>\n",
       "      <td>0</td>\n",
       "      <td>1</td>\n",
       "    </tr>\n",
       "    <tr>\n",
       "      <th>4</th>\n",
       "      <td>4</td>\n",
       "      <td>4</td>\n",
       "      <td>HP</td>\n",
       "      <td>4</td>\n",
       "      <td>2</td>\n",
       "      <td>1</td>\n",
       "      <td>7</td>\n",
       "      <td>15.6</td>\n",
       "      <td>0.620690</td>\n",
       "      <td>8</td>\n",
       "      <td>256</td>\n",
       "      <td>4.21155</td>\n",
       "      <td>837</td>\n",
       "      <td>Low</td>\n",
       "      <td>1</td>\n",
       "      <td>0</td>\n",
       "    </tr>\n",
       "  </tbody>\n",
       "</table>\n",
       "</div>"
      ],
      "text/plain": [
       "   Unnamed: 0.1  Unnamed: 0 Manufacturer  Category  GPU  OS  CPU_core  \\\n",
       "0             0           0         Acer         4    2   1         5   \n",
       "1             1           1         Dell         3    1   1         3   \n",
       "2             2           2         Dell         3    1   1         7   \n",
       "3             3           3         Dell         4    2   1         5   \n",
       "4             4           4           HP         4    2   1         7   \n",
       "\n",
       "   Screen_Size_inch  CPU_frequency  RAM_GB  Storage_GB_SSD  Weight_pounds  \\\n",
       "0              14.0       0.551724       8             256        3.52800   \n",
       "1              15.6       0.689655       4             256        4.85100   \n",
       "2              15.6       0.931034       8             256        4.85100   \n",
       "3              13.3       0.551724       8             128        2.69010   \n",
       "4              15.6       0.620690       8             256        4.21155   \n",
       "\n",
       "   Price Price-binned  Screen-Full_HD  Screen-IPS_panel  \n",
       "0    978          Low               0                 1  \n",
       "1    634          Low               1                 0  \n",
       "2    946          Low               1                 0  \n",
       "3   1244          Low               0                 1  \n",
       "4    837          Low               1                 0  "
      ]
     },
     "execution_count": 9,
     "metadata": {},
     "output_type": "execute_result"
    }
   ],
   "source": [
    "filepath=\"https://cf-courses-data.s3.us.cloud-object-storage.appdomain.cloud/IBMDeveloperSkillsNetwork-DA0101EN-Coursera/laptop_pricing_dataset_mod2.csv\"\n",
    "df = pd.read_csv(filepath)\n",
    "df.head(5)"
   ]
  },
  {
   "cell_type": "markdown",
   "id": "91d289b4",
   "metadata": {},
   "source": [
    "You have learnt that \"CPU_frequency\" is the parameter with the lowest p-value among the different features of the dataset. Create a single feature Linear Regression model that fits the pair of \"CPU_frequency\" and \"Price\" to find the model for prediction."
   ]
  },
  {
   "cell_type": "code",
   "execution_count": 28,
   "id": "da08d658",
   "metadata": {},
   "outputs": [
    {
     "name": "stdout",
     "output_type": "stream",
     "text": [
      " The model can predict the variance of values of predicted variable Price with 0.13 success score\n"
     ]
    }
   ],
   "source": [
    "\n",
    "lm = LinearRegression()\n",
    "\n",
    "X = df[['CPU_frequency']]\n",
    "Y = df['Price']\n",
    "\n",
    "lm.fit(X,Y)\n",
    "\n",
    "Yhat=lm.predict(X)\n",
    "score= lm.score(X,Y)\n",
    "print(f\" The model can predict the variance of values of predicted variable Price with {round(score,2)} success score\")"
   ]
  },
  {
   "cell_type": "markdown",
   "id": "6ea881e4",
   "metadata": {},
   "source": [
    "Generate the Distribution plot for the predicted values and that of the actual values. How well did the model perform?"
   ]
  },
  {
   "cell_type": "code",
   "execution_count": 29,
   "id": "e770bd1c",
   "metadata": {},
   "outputs": [
    {
     "name": "stderr",
     "output_type": "stream",
     "text": [
      "D:\\New Folder\\anaconda\\lib\\site-packages\\seaborn\\distributions.py:2619: FutureWarning: `distplot` is a deprecated function and will be removed in a future version. Please adapt your code to use either `displot` (a figure-level function with similar flexibility) or `kdeplot` (an axes-level function for kernel density plots).\n",
      "  warnings.warn(msg, FutureWarning)\n",
      "D:\\New Folder\\anaconda\\lib\\site-packages\\seaborn\\distributions.py:2619: FutureWarning: `distplot` is a deprecated function and will be removed in a future version. Please adapt your code to use either `displot` (a figure-level function with similar flexibility) or `kdeplot` (an axes-level function for kernel density plots).\n",
      "  warnings.warn(msg, FutureWarning)\n"
     ]
    },
    {
     "data": {
      "image/png": "[encoded data removed]",
      "text/plain": [
       "<Figure size 432x288 with 1 Axes>"
      ]
     },
     "metadata": {
      "needs_background": "light"
     },
     "output_type": "display_data"
    }
   ],
   "source": [
    "ax1 = sns.distplot(df['Price'], hist=False, color=\"r\", label=\"Actual Value\")\n",
    "\n",
    "# Create a distribution plot for predicted values\n",
    "sns.distplot(Yhat, hist=False, color=\"b\", label=\"Fitted Values\" , ax=ax1)\n",
    "\n",
    "plt.title('Actual vs Fitted Values for Price')\n",
    "plt.xlabel('Price')\n",
    "plt.ylabel('Proportion of laptops')\n",
    "plt.legend(['Actual Value', 'Predicted Value'])\n",
    "plt.show()"
   ]
  },
  {
   "cell_type": "markdown",
   "id": "2c104961",
   "metadata": {},
   "source": [
    "Evaluate the Mean Squared Error and R^2 score values for the model"
   ]
  },
  {
   "cell_type": "code",
   "execution_count": 30,
   "id": "5badebf1",
   "metadata": {},
   "outputs": [
    {
     "name": "stdout",
     "output_type": "stream",
     "text": [
      "The R-square for Simple Linear Regression is: 0.1344436321024326\n",
      "The mean square error of price and predicted value is:  284583.4405868629\n"
     ]
    }
   ],
   "source": [
    "mse_slr = mean_squared_error(df['Price'], Yhat)\n",
    "r2_score_slr = lm.score(X, Y)\n",
    "print('The R-square for Simple Linear Regression is:', r2_score_slr)\n",
    "print('The mean square error of price and predicted value is: ', mse_slr)"
   ]
  },
  {
   "cell_type": "code",
   "execution_count": 32,
   "id": "3ce65a7e",
   "metadata": {},
   "outputs": [
    {
     "data": {
      "text/html": [
       "<div>\n",
       "<style scoped>\n",
       "    .dataframe tbody tr th:only-of-type {\n",
       "        vertical-align: middle;\n",
       "    }\n",
       "\n",
       "    .dataframe tbody tr th {\n",
       "        vertical-align: top;\n",
       "    }\n",
       "\n",
       "    .dataframe thead th {\n",
       "        text-align: right;\n",
       "    }\n",
       "</style>\n",
       "<table border=\"1\" class=\"dataframe\">\n",
       "  <thead>\n",
       "    <tr style=\"text-align: right;\">\n",
       "      <th></th>\n",
       "      <th>CPU_frequency</th>\n",
       "      <th>Price</th>\n",
       "    </tr>\n",
       "  </thead>\n",
       "  <tbody>\n",
       "    <tr>\n",
       "      <th>CPU_frequency</th>\n",
       "      <td>1.000000</td>\n",
       "      <td>0.366666</td>\n",
       "    </tr>\n",
       "    <tr>\n",
       "      <th>Price</th>\n",
       "      <td>0.366666</td>\n",
       "      <td>1.000000</td>\n",
       "    </tr>\n",
       "  </tbody>\n",
       "</table>\n",
       "</div>"
      ],
      "text/plain": [
       "               CPU_frequency     Price\n",
       "CPU_frequency       1.000000  0.366666\n",
       "Price               0.366666  1.000000"
      ]
     },
     "execution_count": 32,
     "metadata": {},
     "output_type": "execute_result"
    }
   ],
   "source": [
    "df1= df[['CPU_frequency','Price']]\n",
    "df1.corr()"
   ]
  },
  {
   "cell_type": "code",
   "execution_count": 55,
   "id": "6536dcd5",
   "metadata": {},
   "outputs": [
    {
     "name": "stdout",
     "output_type": "stream",
     "text": [
      "[1485.19362648]\n",
      "253.6611706858214\n"
     ]
    }
   ],
   "source": [
    "lm_slope = lm.coef_\n",
    "print(lm_slope)\n",
    "lm_intercept= lm.intercept_\n",
    "print(lm_intercept)"
   ]
  },
  {
   "cell_type": "markdown",
   "id": "6172511d",
   "metadata": {},
   "source": [
    "## Multiple Linear Regression\n",
    "The parameters which have a low enough p-value so as to indicate strong relationship with the 'Price' value are 'CPU_frequency', 'RAM_GB', 'Storage_GB_SSD', 'CPU_core', 'OS', 'GPU' and 'Category'. Use all these variables to create a Multiple Linear Regression system."
   ]
  },
  {
   "cell_type": "code",
   "execution_count": 36,
   "id": "894df419",
   "metadata": {},
   "outputs": [
    {
     "data": {
      "text/plain": [
       "array([1345.51622771,  710.44905496, 1552.37242687, 1295.00681012,\n",
       "       1543.13847022, 1056.42067418, 1252.02084839,  806.98504446,\n",
       "       1007.51446753, 1449.64309091, 1254.0429167 ,  757.73972448,\n",
       "        380.80382381, 1345.51622771, 1154.22076129, 1452.55027146,\n",
       "       1445.33838312, 1254.0429167 , 1345.51622771, 1154.22076129,\n",
       "       1640.93855733, 1452.55027146, 1543.13847022, 1167.75942573,\n",
       "       1841.4679804 ,  283.00373671, 1212.25798099, 1552.37242687,\n",
       "       1939.2680675 , 1376.73250015, 1939.2680675 , 1650.17251398,\n",
       "       1345.51622771, 1449.64309091, 1154.22076129, 1543.13847022,\n",
       "       1138.08329264, 1351.8430038 , 1105.31455464, 1056.42067418,\n",
       "       1543.13847022, 1362.90546776,  882.80281577,  904.78513157,\n",
       "       1056.42067418, 2093.00082524, 1252.02084839, 1643.84573788,\n",
       "       1252.02084839, 1345.51622771, 1212.9253343 , 1449.64309091,\n",
       "       1543.13847022, 1445.33838312, 1449.64309091, 1345.51622771,\n",
       "        628.97535593, 1775.17253369, 1747.97260108, 1550.35035857,\n",
       "       1452.55027146, 1819.39854227, 1167.75942573, 1167.75942573,\n",
       "       2126.14854859, 1138.08329264, 1345.51622771, 1351.8430038 ,\n",
       "        826.59759845, 1167.75942573, 1278.93241305, 1449.64309091,\n",
       "       1650.17251398, 1741.64582499, 1781.12032443, 1154.22076129,\n",
       "       1353.67500618, 2891.33041427, 1681.67715437, 1452.55027146,\n",
       "       1452.55027146, 1650.17251398, 1650.17251398, 1939.2680675 ,\n",
       "       1841.4679804 , 1452.55027146, 1398.52939159, 1485.69799481,\n",
       "       1452.55027146, 1252.02084839, 1543.13847022, 1650.17251398,\n",
       "       2163.71125727, 1485.69799481, 1452.55027146, 1552.37242687,\n",
       "       1841.4679804 , 1550.35035857,  890.33061789, 2130.56353392,\n",
       "       1398.52939159, 1124.92710862, 1254.0429167 , 1452.55027146,\n",
       "       1353.67500618,  580.06914928, 1775.17253369, 1445.33838312,\n",
       "       1716.46796068, 1447.1703855 , 1650.17251398,  989.77378795,\n",
       "        677.86923639,  709.18495736, 1643.84573788, 1649.79352862,\n",
       "       1167.75942573, 2825.03496757, 1452.55027146, 1814.26804778,\n",
       "       1345.51622771, 2163.71125727, 1452.55027146,  756.47562688,\n",
       "       1154.22076129, 1550.35035857, 1351.8430038 , 1288.0757523 ,\n",
       "       1452.55027146, 1452.55027146, 1593.3363203 , 1550.35035857,\n",
       "       1841.4679804 , 1485.69799481, 1386.25482476, 1551.99344152,\n",
       "       1781.12032443, 1056.42067418, 1747.97260108,  757.73972448,\n",
       "        890.33061789,  757.73972448, 1452.55027146,  989.77378795,\n",
       "       1781.12032443, 1452.55027146, 1124.92710862,  890.33061789,\n",
       "       2475.59175808, 2155.55597387, 1452.55027146, 2163.71125727,\n",
       "       1650.17251398, 1583.87706727,  529.5597317 , 1386.25482476,\n",
       "       1781.12032443,  806.98504446, 1643.84573788, 2093.00082524,\n",
       "       1386.25482476, 1841.4679804 , 1345.51622771, 1254.0429167 ,\n",
       "       1419.40254811, 1452.55027146, 1643.84573788, 1862.23085937,\n",
       "       1167.75942573,  710.44905496, 1105.31455464, 1452.55027146,\n",
       "       1452.55027146, 1386.25482476, 1222.34821037, 1550.35035857,\n",
       "       1485.69799481, 1747.97260108, 1643.84573788, 1452.55027146,\n",
       "       2858.18269092, 1452.55027146, 2535.93941404, 1155.48485889,\n",
       "       1419.40254811, 2097.41581057, 2569.0871374 , 1841.4679804 ,\n",
       "       2246.84386052,  890.33061789, 1167.75942573, 1057.68477179,\n",
       "       2163.71125727, 1452.55027146, 1643.84573788, 1643.84573788,\n",
       "       1354.75018436, 1841.4679804 , 1167.75942573, 1237.56633472,\n",
       "       1386.25482476, 1485.69799481, 1205.13671005, 1972.41579085,\n",
       "       1747.97260108, 1402.04085388, 1387.89790771, 1054.80513705,\n",
       "       1452.55027146, 1650.17251398, 2633.73950115, 1874.61570375,\n",
       "       1675.35037828, 1105.31455464, 1054.80513705, 1841.4679804 ,\n",
       "       1643.84573788, 1452.55027146, 1551.99344152, 1574.35474267,\n",
       "       1747.97260108, 1054.80513705, 1452.55027146, 1677.37244659,\n",
       "       2409.29631137, 1841.4679804 , 1386.25482476,  988.50969035,\n",
       "       1194.95935834, 1643.84573788, 1643.84573788, 1874.61570375,\n",
       "       1386.25482476, 1808.32025704, 1419.40254811, 1676.99346123,\n",
       "       1376.73250015, 1386.25482476])"
      ]
     },
     "execution_count": 36,
     "metadata": {},
     "output_type": "execute_result"
    }
   ],
   "source": [
    "lm1 = LinearRegression()\n",
    "\n",
    "x_mlr= df[['CPU_frequency','RAM_GB','Storage_GB_SSD','CPU_core','OS','GPU','Category']]\n",
    "Y = df['Price']\n",
    "\n",
    "lm1.fit(x_mlr,Y)\n",
    "\n",
    "Yhat1=lm1.predict(x_mlr)\n",
    "Yhat1"
   ]
  },
  {
   "cell_type": "code",
   "execution_count": 57,
   "id": "65ef5c5a",
   "metadata": {},
   "outputs": [
    {
     "name": "stdout",
     "output_type": "stream",
     "text": [
      "[ 9.61283977e+02  8.68089292e+01  3.94604825e-01  6.56633979e+01\n",
      " -4.27445318e+02  9.78000871e+01  1.91295466e+02]\n",
      "253.6611706858214\n"
     ]
    }
   ],
   "source": [
    "lm1_slope = lm1.coef_\n",
    "print(lm1_slope)\n",
    "lm1_intercept= lm1.intercept_\n",
    "print(lm_intercept)"
   ]
  },
  {
   "cell_type": "markdown",
   "id": "bf03acfb",
   "metadata": {},
   "source": [
    "Plot the Distribution graph of the predicted values as well as the Actual values\n"
   ]
  },
  {
   "cell_type": "code",
   "execution_count": 42,
   "id": "5e590003",
   "metadata": {},
   "outputs": [
    {
     "name": "stderr",
     "output_type": "stream",
     "text": [
      "D:\\New Folder\\anaconda\\lib\\site-packages\\seaborn\\distributions.py:2619: FutureWarning: `distplot` is a deprecated function and will be removed in a future version. Please adapt your code to use either `displot` (a figure-level function with similar flexibility) or `kdeplot` (an axes-level function for kernel density plots).\n",
      "  warnings.warn(msg, FutureWarning)\n",
      "D:\\New Folder\\anaconda\\lib\\site-packages\\seaborn\\distributions.py:2619: FutureWarning: `distplot` is a deprecated function and will be removed in a future version. Please adapt your code to use either `displot` (a figure-level function with similar flexibility) or `kdeplot` (an axes-level function for kernel density plots).\n",
      "  warnings.warn(msg, FutureWarning)\n"
     ]
    },
    {
     "data": {
      "text/plain": [
       "Text(0, 0.5, 'Proportion of laptops')"
      ]
     },
     "execution_count": 42,
     "metadata": {},
     "output_type": "execute_result"
    },
    {
     "data": {
      "image/png": "[encoded data removed]",
      "text/plain": [
       "<Figure size 432x288 with 1 Axes>"
      ]
     },
     "metadata": {
      "needs_background": "light"
     },
     "output_type": "display_data"
    }
   ],
   "source": [
    "ax1 = sns.distplot(df['Price'], hist=False, color=\"r\", label=\"Actual Value\")\n",
    "sns.distplot(Yhat1, hist=False, color=\"b\", label=\"Fitted Values\" , ax=ax1)\n",
    "\n",
    "plt.title('Actual vs Fitted Values for Price')\n",
    "plt.xlabel('Price')\n",
    "plt.ylabel('Proportion of laptops')"
   ]
  },
  {
   "cell_type": "markdown",
   "id": "8898a72f",
   "metadata": {},
   "source": [
    "Find the R^2 score and the MSE value for this fit. Is this better or worst than the performance of Single Linear Regression?\n"
   ]
  },
  {
   "cell_type": "code",
   "execution_count": 44,
   "id": "b8811e0a",
   "metadata": {},
   "outputs": [
    {
     "name": "stdout",
     "output_type": "stream",
     "text": [
      "The R-square for Simple Linear Regression is: 0.5082509055187374\n",
      "The mean square error of price and predicted value is:  161680.57263893107\n"
     ]
    }
   ],
   "source": [
    "mse_mlr = mean_squared_error(df['Price'], Yhat1)\n",
    "r2_score_mlr = lm1.score(x_mlr, Y)\n",
    "print('The R-square for Simple Linear Regression is:', r2_score_mlr)\n",
    "print('The mean square error of price and predicted value is: ', mse_mlr)"
   ]
  },
  {
   "cell_type": "markdown",
   "id": "72a7ac1f",
   "metadata": {},
   "source": [
    "The value of the R-squared is the percentage of variation of the response variable (y) that is explained by a linear model."
   ]
  },
  {
   "cell_type": "code",
   "execution_count": null,
   "id": "3999ad2e",
   "metadata": {},
   "outputs": [],
   "source": []
  }
 ],
 "metadata": {
  "kernelspec": {
   "display_name": "Python 3 (ipykernel)",
   "language": "python",
   "name": "python3"
  },
  "language_info": {
   "codemirror_mode": {
    "name": "ipython",
    "version": 3
   },
   "file_extension": ".py",
   "mimetype": "text/x-python",
   "name": "python",
   "nbconvert_exporter": "python",
   "pygments_lexer": "ipython3",
   "version": "3.9.12"
  }
 },
 "nbformat": 4,
 "nbformat_minor": 5
}
